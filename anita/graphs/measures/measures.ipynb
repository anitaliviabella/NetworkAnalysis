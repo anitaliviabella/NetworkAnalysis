{
 "cells": [
  {
   "cell_type": "markdown",
   "id": "ea12415c-2be4-4a3c-a556-50669de482f5",
   "metadata": {},
   "source": [
    "### **For Co-Appearances Graph:**\n",
    "\n",
    "1. **Centrality Measures:**\n",
    "    - **Degree Centrality:** Identify characters who co-appear the most.\n",
    "    \n",
    "    - **Betweenness Centrality:** Find characters who connect different groups in the network.\n",
    "    \n",
    "    - **Closeness Centrality:** Highlight characters close to others in terms of co-appearances."
   ]
  },
  {
   "cell_type": "markdown",
   "id": "6234c4d9-7348-4660-a65d-87f458ae3803",
   "metadata": {},
   "source": [
    "From the centrality measures results, you can derive some interesting insights into the structure of the character co-appearance network in your graph. Here are some general considerations based on the provided results:\n",
    "\n",
    "1. **Degree Centrality:**\n",
    "    - Characters with the highest degree centrality are \"Hamlet,\" \"Horatio,\" \"Queen Gertrude,\" and \"King Claudius.\" These characters are heavily involved in many co-appearances.\n",
    "    \n",
    "    - Characters like \"Ophelia,\" \"Laertes,\" and \"Rosencrantz\" have lower degree centralities, suggesting less frequent participation in co-appearances.\n",
    "\n",
    "2. **Betweenness Centrality:**\n",
    "    - \"Hamlet\" has high betweenness centrality, indicating that this character may be crucial in connecting different groups of characters in the network. Hamlet could act as a bridge between various character subgroups.\n",
    "\n",
    "    - Other characters with good betweenness centrality include \"Horatio,\" \"King Claudius,\" and \"Queen Gertrude.\"\n",
    "\n",
    "3. **Closeness Centrality:**\n",
    "    - \"Hamlet\" has the highest closeness centrality, indicating that he is close to many other characters in the network in terms of co-appearances. This might suggest that \"Hamlet\" is strongly connected to other characters and could influence or be influenced by them.\n",
    "\n",
    "    - Characters like \"Polonius,\" \"Reynaldo,\" and \"Messenger\" have lower closeness centrality, indicating greater distance from other characters in the network.\n",
    "\n",
    "In general, these measures provide an indication of the relative position and importance of characters in the plot. Characters with higher centrality may have a greater impact on the overall dynamics of the story, while those with lower centrality may have more peripheral roles. However, specific interpretations also depend on the context of the plot and the significance of co-appearances within the narrative of \"Hamlet.\"\n",
    "\n",
    "This is obvious since the protagonit is Hamlet."
   ]
  },
  {
   "cell_type": "markdown",
   "id": "934615db-e599-4c66-9708-28cd4732258c",
   "metadata": {},
   "source": [
    "The \"Local Clustering Coefficient\" for each node in your network represents the degree to which its neighbors are connected to each other. In simpler terms, it measures the extent to which the character's immediate connections form a tightly-knit group or cluster.\n",
    "\n",
    "Here's how to interpret the results:\n",
    "\n",
    "- **Values Close to 1.0:** A high local clustering coefficient (close to 1.0) suggests that the character's connections (co-appearances) tend to form a cohesive group. For example:\n",
    "  - \"Osric\" has a local clustering coefficient of 1.0, indicating that characters who co-appear with Osric also tend to co-appear with each other, forming a tightly connected group.\n",
    "  - Similar observations can be made for characters like \"Reynaldo,\" \"Lucianus,\" \"Player King,\" \"Player Queen,\" etc.\n",
    "\n",
    "- **Values Between 0 and 1:** Values between 0 and 1 represent varying degrees of clustering. For example:\n",
    "  - \"Hamlet\" has a local clustering coefficient of 0.41, suggesting that while Hamlet's co-appearances form a group, it might not be as tightly knit as some other characters.\n",
    "\n",
    "- **Values Close to 0:** A low local clustering coefficient (close to 0) indicates that the character's connections are less likely to form a connected group. For example:\n",
    "  - Characters like \"Ladies\" and \"Gentleman\" have a local clustering coefficient of 0, suggesting that their co-appearances are more dispersed and less likely to form a cohesive group.\n",
    "\n",
    "In essence, this measure helps you identify characters around whom there is a tendency for their co-appearing characters to also co-appear with each other, indicating potential subgroups or cliques within the overall network. It provides insights into the local structure of the network around each character."
   ]
  },
  {
   "cell_type": "markdown",
   "id": "5a8f05ce-e225-4ad0-9c71-481fbecf3998",
   "metadata": {},
   "source": [
    "The \"Communities\" output represents the assignment of nodes (characters) to different communities as identified by the Louvain community detection algorithm. Each community is assigned a unique identifier (number). Here's how you can interpret the results:\n",
    "\n",
    "1. **Nodes in the Same Community:**\n",
    "   - Characters assigned to the same community are considered to have similar patterns of co-appearances in the play.\n",
    "\n",
    "2. **Community Identifiers:**\n",
    "   - Each node (character) is assigned a community identifier (number). For example, \"Hamlet\" and \"Horatio\" are in community 6, \"King Claudius\" and \"Queen Gertrude\" are in community 1, and so on.\n",
    "\n",
    "3. **Interpretation Example:**\n",
    "   - Characters in the same community may share common storylines, relationships, or involvement in specific events. For instance, characters in community 6, including \"Hamlet,\" \"Bernardo,\" \"Francisco,\" and others, might be part of a cohesive group with frequent co-appearances.\n",
    "\n",
    "4. **Isolated Nodes:**\n",
    "   - Nodes assigned to community 0, such as \"Ladies\" and \"Gentleman,\" are not closely associated with any specific community based on the algorithm's criteria. This might suggest that these characters have fewer or more dispersed co-appearances.\n",
    "\n",
    "5. **Diversity in Community Assignments:**\n",
    "   - Different community assignments imply diverse roles or relationships within the play. For example, characters in community 3 might have distinct co-appearance patterns compared to those in community 2.\n",
    "\n",
    "In summary, community detection helps identify groups of characters that have similar co-appearance patterns, potentially reflecting subplots, character relationships, or thematic consistency within the play. Analyzing the narrative context of characters within each community can provide insights into the structure and dynamics of the story as perceived by the Louvain community detection algorithm."
   ]
  }
 ],
 "metadata": {
  "kernelspec": {
   "display_name": "Python 3.11.2 64-bit",
   "language": "python",
   "name": "python3"
  },
  "language_info": {
   "codemirror_mode": {
    "name": "ipython",
    "version": 3
   },
   "file_extension": ".py",
   "mimetype": "text/x-python",
   "name": "python",
   "nbconvert_exporter": "python",
   "pygments_lexer": "ipython3",
   "version": "3.11.2"
  },
  "vscode": {
   "interpreter": {
    "hash": "aee8b7b246df8f9039afb4144a1f6fd8d2ca17a180786b69acc140d282b71a49"
   }
  }
 },
 "nbformat": 4,
 "nbformat_minor": 5
}
