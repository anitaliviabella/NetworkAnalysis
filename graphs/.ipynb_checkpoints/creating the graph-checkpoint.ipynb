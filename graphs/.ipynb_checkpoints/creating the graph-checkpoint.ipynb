{
 "cells": [
  {
   "cell_type": "markdown",
   "id": "a3326dd8-ed24-4f51-8aca-dca54f717b80",
   "metadata": {
    "tags": []
   },
   "source": [
    "### HAMLET\n",
    "\n",
    "## Characters as NODES\n",
    "## Gender as ATTRIBUTE\n",
    "\n",
    "1. Hamlet, Prince of Denmark, son of King Hamlet.\n",
    "2. Claudius, King of Denmark, uncle of Hamlet, and brother of King Hamlet.\n",
    "3. Ghost of the old King Hamlet, the deceased king.\n",
    "4. Gertrude, the queen, Hamlet's mother, who has married Claudius.\n",
    "5. Polonius, counselor of state.\n",
    "6. Laertes, son of Polonius.\n",
    "7. Ophelia, daughter of Polonius, engaged to Hamlet.\n",
    "8. Horatio, trusted friend of Hamlet.\n",
    "9. Rosencrantz and Guildenstern, courtiers, former university companions of Hamlet.\n",
    "10. Fortinbras, Prince of Norway.\n",
    "11. Voltimand and Cornelius, Danish counselors, ambassadors to Norway.\n",
    "12. Marcellus, Bernardo, Francisco: Guards of the King.\n",
    "13. Osric, a courtier.\n",
    "14. Reynaldo, servant of Polonius.\n",
    "15. Actors.\n",
    "16. A courtier.\n",
    "17. A priest.\n",
    "18. Two gravediggers.\n",
    "19. The gravedigger's companion.\n",
    "20. A captain, messenger of Fortinbras.\n",
    "21. Ambassadors from England.\n",
    "22. Ladies, gentlemen, officers, soldiers, sailors, messengers, and servants."
   ]
  },
  {
   "cell_type": "code",
   "execution_count": 25,
   "id": "11713b3b-d681-4d44-b9de-7dc2d28a6207",
   "metadata": {
    "tags": []
   },
   "outputs": [
    {
     "name": "stdout",
     "output_type": "stream",
     "text": [
      "         Character  Gender Role Place\n",
      "0           Hamlet    Male           \n",
      "1    King Claudius    Male           \n",
      "2      King Hamlet    Male           \n",
      "3   Queen Gertrude  Female           \n",
      "4         Polonius    Male           \n",
      "5          Laertes    Male           \n",
      "6          Ophelia  Female           \n",
      "7          Horatio    Male           \n",
      "8      Rosencrantz    Male           \n",
      "9     Guildenstern    Male           \n",
      "10      Fortinbras    Male           \n",
      "11       Voltimand    Male           \n",
      "12       Cornelius    Male           \n",
      "13       Marcellus    Male           \n",
      "14        Bernardo    Male           \n",
      "15       Francisco    Male           \n",
      "16           Osric    Male           \n",
      "17        Reynaldo    Male           \n",
      "18          Actors    Male           \n"
     ]
    },
    {
     "data": {
      "application/vnd.plotly.v1+json": {
       "config": {
        "plotlyServerURL": "https://plot.ly"
       },
       "data": [
        {
         "customdata": [
          [
           "Character: Hamlet<br>Gender: Male<br>Place: <br>Role: "
          ],
          [
           "Character: King Claudius<br>Gender: Male<br>Place: <br>Role: "
          ],
          [
           "Character: King Hamlet<br>Gender: Male<br>Place: <br>Role: "
          ],
          [
           "Character: Queen Gertrude<br>Gender: Female<br>Place: <br>Role: "
          ],
          [
           "Character: Polonius<br>Gender: Male<br>Place: <br>Role: "
          ],
          [
           "Character: Laertes<br>Gender: Male<br>Place: <br>Role: "
          ],
          [
           "Character: Ophelia<br>Gender: Female<br>Place: <br>Role: "
          ],
          [
           "Character: Horatio<br>Gender: Male<br>Place: <br>Role: "
          ],
          [
           "Character: Rosencrantz<br>Gender: Male<br>Place: <br>Role: "
          ],
          [
           "Character: Guildenstern<br>Gender: Male<br>Place: <br>Role: "
          ],
          [
           "Character: Fortinbras<br>Gender: Male<br>Place: <br>Role: "
          ],
          [
           "Character: Voltimand<br>Gender: Male<br>Place: <br>Role: "
          ],
          [
           "Character: Cornelius<br>Gender: Male<br>Place: <br>Role: "
          ],
          [
           "Character: Marcellus<br>Gender: Male<br>Place: <br>Role: "
          ],
          [
           "Character: Bernardo<br>Gender: Male<br>Place: <br>Role: "
          ],
          [
           "Character: Francisco<br>Gender: Male<br>Place: <br>Role: "
          ],
          [
           "Character: Osric<br>Gender: Male<br>Place: <br>Role: "
          ],
          [
           "Character: Reynaldo<br>Gender: Male<br>Place: <br>Role: "
          ],
          [
           "Character: Actors<br>Gender: Male<br>Place: <br>Role: "
          ]
         ],
         "hoverinfo": "text",
         "hovertemplate": "%{customdata}",
         "marker": {
          "color": [
           "lightblue",
           "lightblue",
           "lightblue",
           "red",
           "lightblue",
           "lightblue",
           "red",
           "lightblue",
           "lightblue",
           "lightblue",
           "lightblue",
           "lightblue",
           "lightblue",
           "lightblue",
           "lightblue",
           "lightblue",
           "lightblue",
           "lightblue",
           "lightblue"
          ],
          "showscale": false
         },
         "mode": "markers+text",
         "text": [
          "Hamlet",
          "King Claudius",
          "King Hamlet",
          "Queen Gertrude",
          "Polonius",
          "Laertes",
          "Ophelia",
          "Horatio",
          "Rosencrantz",
          "Guildenstern",
          "Fortinbras",
          "Voltimand",
          "Cornelius",
          "Marcellus",
          "Bernardo",
          "Francisco",
          "Osric",
          "Reynaldo",
          "Actors"
         ],
         "textfont": {
          "size": 10
         },
         "textposition": "bottom center",
         "type": "scatter",
         "x": [
          0.07682164538686348,
          0.97179227174974,
          -0.5973249876737311,
          -0.9251722120694426,
          0.679889152675484,
          -0.7748019690226063,
          0.9113491235226024,
          -0.7947332581931028,
          -0.42441671570058304,
          0.038914147726311056,
          0.6482787966167552,
          -0.8713662223941601,
          0.397358965859892,
          -0.9237657734486471,
          0.3448390091431433,
          0.9092721253025096,
          -0.34887528748497487,
          0.9631024559118425,
          -0.28116126790789514
         ],
         "y": [
          1,
          0.1285812437095669,
          -0.8224182998402634,
          0.38539807723122266,
          0.6676192700816497,
          0.7207184060102347,
          -0.5144912068474367,
          -0.5539695340774043,
          0.7390827303086503,
          -0.9349907567142756,
          -0.7804492620682125,
          -0.250550451264304,
          0.8582743062408859,
          0.06224881565989175,
          -0.984596636601728,
          -0.20050006799935943,
          0.9654471860358731,
          0.4915579785233195,
          -0.9769617983883109
         ]
        }
       ],
       "layout": {
        "autosize": true,
        "showlegend": false,
        "template": {
         "data": {
          "bar": [
           {
            "error_x": {
             "color": "#2a3f5f"
            },
            "error_y": {
             "color": "#2a3f5f"
            },
            "marker": {
             "line": {
              "color": "#E5ECF6",
              "width": 0.5
             },
             "pattern": {
              "fillmode": "overlay",
              "size": 10,
              "solidity": 0.2
             }
            },
            "type": "bar"
           }
          ],
          "barpolar": [
           {
            "marker": {
             "line": {
              "color": "#E5ECF6",
              "width": 0.5
             },
             "pattern": {
              "fillmode": "overlay",
              "size": 10,
              "solidity": 0.2
             }
            },
            "type": "barpolar"
           }
          ],
          "carpet": [
           {
            "aaxis": {
             "endlinecolor": "#2a3f5f",
             "gridcolor": "white",
             "linecolor": "white",
             "minorgridcolor": "white",
             "startlinecolor": "#2a3f5f"
            },
            "baxis": {
             "endlinecolor": "#2a3f5f",
             "gridcolor": "white",
             "linecolor": "white",
             "minorgridcolor": "white",
             "startlinecolor": "#2a3f5f"
            },
            "type": "carpet"
           }
          ],
          "choropleth": [
           {
            "colorbar": {
             "outlinewidth": 0,
             "ticks": ""
            },
            "type": "choropleth"
           }
          ],
          "contour": [
           {
            "colorbar": {
             "outlinewidth": 0,
             "ticks": ""
            },
            "colorscale": [
             [
              0,
              "#0d0887"
             ],
             [
              0.1111111111111111,
              "#46039f"
             ],
             [
              0.2222222222222222,
              "#7201a8"
             ],
             [
              0.3333333333333333,
              "#9c179e"
             ],
             [
              0.4444444444444444,
              "#bd3786"
             ],
             [
              0.5555555555555556,
              "#d8576b"
             ],
             [
              0.6666666666666666,
              "#ed7953"
             ],
             [
              0.7777777777777778,
              "#fb9f3a"
             ],
             [
              0.8888888888888888,
              "#fdca26"
             ],
             [
              1,
              "#f0f921"
             ]
            ],
            "type": "contour"
           }
          ],
          "contourcarpet": [
           {
            "colorbar": {
             "outlinewidth": 0,
             "ticks": ""
            },
            "type": "contourcarpet"
           }
          ],
          "heatmap": [
           {
            "colorbar": {
             "outlinewidth": 0,
             "ticks": ""
            },
            "colorscale": [
             [
              0,
              "#0d0887"
             ],
             [
              0.1111111111111111,
              "#46039f"
             ],
             [
              0.2222222222222222,
              "#7201a8"
             ],
             [
              0.3333333333333333,
              "#9c179e"
             ],
             [
              0.4444444444444444,
              "#bd3786"
             ],
             [
              0.5555555555555556,
              "#d8576b"
             ],
             [
              0.6666666666666666,
              "#ed7953"
             ],
             [
              0.7777777777777778,
              "#fb9f3a"
             ],
             [
              0.8888888888888888,
              "#fdca26"
             ],
             [
              1,
              "#f0f921"
             ]
            ],
            "type": "heatmap"
           }
          ],
          "heatmapgl": [
           {
            "colorbar": {
             "outlinewidth": 0,
             "ticks": ""
            },
            "colorscale": [
             [
              0,
              "#0d0887"
             ],
             [
              0.1111111111111111,
              "#46039f"
             ],
             [
              0.2222222222222222,
              "#7201a8"
             ],
             [
              0.3333333333333333,
              "#9c179e"
             ],
             [
              0.4444444444444444,
              "#bd3786"
             ],
             [
              0.5555555555555556,
              "#d8576b"
             ],
             [
              0.6666666666666666,
              "#ed7953"
             ],
             [
              0.7777777777777778,
              "#fb9f3a"
             ],
             [
              0.8888888888888888,
              "#fdca26"
             ],
             [
              1,
              "#f0f921"
             ]
            ],
            "type": "heatmapgl"
           }
          ],
          "histogram": [
           {
            "marker": {
             "pattern": {
              "fillmode": "overlay",
              "size": 10,
              "solidity": 0.2
             }
            },
            "type": "histogram"
           }
          ],
          "histogram2d": [
           {
            "colorbar": {
             "outlinewidth": 0,
             "ticks": ""
            },
            "colorscale": [
             [
              0,
              "#0d0887"
             ],
             [
              0.1111111111111111,
              "#46039f"
             ],
             [
              0.2222222222222222,
              "#7201a8"
             ],
             [
              0.3333333333333333,
              "#9c179e"
             ],
             [
              0.4444444444444444,
              "#bd3786"
             ],
             [
              0.5555555555555556,
              "#d8576b"
             ],
             [
              0.6666666666666666,
              "#ed7953"
             ],
             [
              0.7777777777777778,
              "#fb9f3a"
             ],
             [
              0.8888888888888888,
              "#fdca26"
             ],
             [
              1,
              "#f0f921"
             ]
            ],
            "type": "histogram2d"
           }
          ],
          "histogram2dcontour": [
           {
            "colorbar": {
             "outlinewidth": 0,
             "ticks": ""
            },
            "colorscale": [
             [
              0,
              "#0d0887"
             ],
             [
              0.1111111111111111,
              "#46039f"
             ],
             [
              0.2222222222222222,
              "#7201a8"
             ],
             [
              0.3333333333333333,
              "#9c179e"
             ],
             [
              0.4444444444444444,
              "#bd3786"
             ],
             [
              0.5555555555555556,
              "#d8576b"
             ],
             [
              0.6666666666666666,
              "#ed7953"
             ],
             [
              0.7777777777777778,
              "#fb9f3a"
             ],
             [
              0.8888888888888888,
              "#fdca26"
             ],
             [
              1,
              "#f0f921"
             ]
            ],
            "type": "histogram2dcontour"
           }
          ],
          "mesh3d": [
           {
            "colorbar": {
             "outlinewidth": 0,
             "ticks": ""
            },
            "type": "mesh3d"
           }
          ],
          "parcoords": [
           {
            "line": {
             "colorbar": {
              "outlinewidth": 0,
              "ticks": ""
             }
            },
            "type": "parcoords"
           }
          ],
          "pie": [
           {
            "automargin": true,
            "type": "pie"
           }
          ],
          "scatter": [
           {
            "fillpattern": {
             "fillmode": "overlay",
             "size": 10,
             "solidity": 0.2
            },
            "type": "scatter"
           }
          ],
          "scatter3d": [
           {
            "line": {
             "colorbar": {
              "outlinewidth": 0,
              "ticks": ""
             }
            },
            "marker": {
             "colorbar": {
              "outlinewidth": 0,
              "ticks": ""
             }
            },
            "type": "scatter3d"
           }
          ],
          "scattercarpet": [
           {
            "marker": {
             "colorbar": {
              "outlinewidth": 0,
              "ticks": ""
             }
            },
            "type": "scattercarpet"
           }
          ],
          "scattergeo": [
           {
            "marker": {
             "colorbar": {
              "outlinewidth": 0,
              "ticks": ""
             }
            },
            "type": "scattergeo"
           }
          ],
          "scattergl": [
           {
            "marker": {
             "colorbar": {
              "outlinewidth": 0,
              "ticks": ""
             }
            },
            "type": "scattergl"
           }
          ],
          "scattermapbox": [
           {
            "marker": {
             "colorbar": {
              "outlinewidth": 0,
              "ticks": ""
             }
            },
            "type": "scattermapbox"
           }
          ],
          "scatterpolar": [
           {
            "marker": {
             "colorbar": {
              "outlinewidth": 0,
              "ticks": ""
             }
            },
            "type": "scatterpolar"
           }
          ],
          "scatterpolargl": [
           {
            "marker": {
             "colorbar": {
              "outlinewidth": 0,
              "ticks": ""
             }
            },
            "type": "scatterpolargl"
           }
          ],
          "scatterternary": [
           {
            "marker": {
             "colorbar": {
              "outlinewidth": 0,
              "ticks": ""
             }
            },
            "type": "scatterternary"
           }
          ],
          "surface": [
           {
            "colorbar": {
             "outlinewidth": 0,
             "ticks": ""
            },
            "colorscale": [
             [
              0,
              "#0d0887"
             ],
             [
              0.1111111111111111,
              "#46039f"
             ],
             [
              0.2222222222222222,
              "#7201a8"
             ],
             [
              0.3333333333333333,
              "#9c179e"
             ],
             [
              0.4444444444444444,
              "#bd3786"
             ],
             [
              0.5555555555555556,
              "#d8576b"
             ],
             [
              0.6666666666666666,
              "#ed7953"
             ],
             [
              0.7777777777777778,
              "#fb9f3a"
             ],
             [
              0.8888888888888888,
              "#fdca26"
             ],
             [
              1,
              "#f0f921"
             ]
            ],
            "type": "surface"
           }
          ],
          "table": [
           {
            "cells": {
             "fill": {
              "color": "#EBF0F8"
             },
             "line": {
              "color": "white"
             }
            },
            "header": {
             "fill": {
              "color": "#C8D4E3"
             },
             "line": {
              "color": "white"
             }
            },
            "type": "table"
           }
          ]
         },
         "layout": {
          "annotationdefaults": {
           "arrowcolor": "#2a3f5f",
           "arrowhead": 0,
           "arrowwidth": 1
          },
          "autotypenumbers": "strict",
          "coloraxis": {
           "colorbar": {
            "outlinewidth": 0,
            "ticks": ""
           }
          },
          "colorscale": {
           "diverging": [
            [
             0,
             "#8e0152"
            ],
            [
             0.1,
             "#c51b7d"
            ],
            [
             0.2,
             "#de77ae"
            ],
            [
             0.3,
             "#f1b6da"
            ],
            [
             0.4,
             "#fde0ef"
            ],
            [
             0.5,
             "#f7f7f7"
            ],
            [
             0.6,
             "#e6f5d0"
            ],
            [
             0.7,
             "#b8e186"
            ],
            [
             0.8,
             "#7fbc41"
            ],
            [
             0.9,
             "#4d9221"
            ],
            [
             1,
             "#276419"
            ]
           ],
           "sequential": [
            [
             0,
             "#0d0887"
            ],
            [
             0.1111111111111111,
             "#46039f"
            ],
            [
             0.2222222222222222,
             "#7201a8"
            ],
            [
             0.3333333333333333,
             "#9c179e"
            ],
            [
             0.4444444444444444,
             "#bd3786"
            ],
            [
             0.5555555555555556,
             "#d8576b"
            ],
            [
             0.6666666666666666,
             "#ed7953"
            ],
            [
             0.7777777777777778,
             "#fb9f3a"
            ],
            [
             0.8888888888888888,
             "#fdca26"
            ],
            [
             1,
             "#f0f921"
            ]
           ],
           "sequentialminus": [
            [
             0,
             "#0d0887"
            ],
            [
             0.1111111111111111,
             "#46039f"
            ],
            [
             0.2222222222222222,
             "#7201a8"
            ],
            [
             0.3333333333333333,
             "#9c179e"
            ],
            [
             0.4444444444444444,
             "#bd3786"
            ],
            [
             0.5555555555555556,
             "#d8576b"
            ],
            [
             0.6666666666666666,
             "#ed7953"
            ],
            [
             0.7777777777777778,
             "#fb9f3a"
            ],
            [
             0.8888888888888888,
             "#fdca26"
            ],
            [
             1,
             "#f0f921"
            ]
           ]
          },
          "colorway": [
           "#636efa",
           "#EF553B",
           "#00cc96",
           "#ab63fa",
           "#FFA15A",
           "#19d3f3",
           "#FF6692",
           "#B6E880",
           "#FF97FF",
           "#FECB52"
          ],
          "font": {
           "color": "#2a3f5f"
          },
          "geo": {
           "bgcolor": "white",
           "lakecolor": "white",
           "landcolor": "#E5ECF6",
           "showlakes": true,
           "showland": true,
           "subunitcolor": "white"
          },
          "hoverlabel": {
           "align": "left"
          },
          "hovermode": "closest",
          "mapbox": {
           "style": "light"
          },
          "paper_bgcolor": "white",
          "plot_bgcolor": "#E5ECF6",
          "polar": {
           "angularaxis": {
            "gridcolor": "white",
            "linecolor": "white",
            "ticks": ""
           },
           "bgcolor": "#E5ECF6",
           "radialaxis": {
            "gridcolor": "white",
            "linecolor": "white",
            "ticks": ""
           }
          },
          "scene": {
           "xaxis": {
            "backgroundcolor": "#E5ECF6",
            "gridcolor": "white",
            "gridwidth": 2,
            "linecolor": "white",
            "showbackground": true,
            "ticks": "",
            "zerolinecolor": "white"
           },
           "yaxis": {
            "backgroundcolor": "#E5ECF6",
            "gridcolor": "white",
            "gridwidth": 2,
            "linecolor": "white",
            "showbackground": true,
            "ticks": "",
            "zerolinecolor": "white"
           },
           "zaxis": {
            "backgroundcolor": "#E5ECF6",
            "gridcolor": "white",
            "gridwidth": 2,
            "linecolor": "white",
            "showbackground": true,
            "ticks": "",
            "zerolinecolor": "white"
           }
          },
          "shapedefaults": {
           "line": {
            "color": "#2a3f5f"
           }
          },
          "ternary": {
           "aaxis": {
            "gridcolor": "white",
            "linecolor": "white",
            "ticks": ""
           },
           "baxis": {
            "gridcolor": "white",
            "linecolor": "white",
            "ticks": ""
           },
           "bgcolor": "#E5ECF6",
           "caxis": {
            "gridcolor": "white",
            "linecolor": "white",
            "ticks": ""
           }
          },
          "title": {
           "x": 0.05
          },
          "xaxis": {
           "automargin": true,
           "gridcolor": "white",
           "linecolor": "white",
           "ticks": "",
           "title": {
            "standoff": 15
           },
           "zerolinecolor": "white",
           "zerolinewidth": 2
          },
          "yaxis": {
           "automargin": true,
           "gridcolor": "white",
           "linecolor": "white",
           "ticks": "",
           "title": {
            "standoff": 15
           },
           "zerolinecolor": "white",
           "zerolinewidth": 2
          }
         }
        },
        "title": {
         "text": "Hamlet's Network"
        },
        "xaxis": {
         "autorange": true,
         "range": [
          -1.0476896408033212,
          1.0943097004836186
         ],
         "showgrid": false,
         "type": "linear",
         "zeroline": false
        },
        "yaxis": {
         "autorange": true,
         "range": [
          -1.1483740289426474,
          1.1637773923409194
         ],
         "showgrid": false,
         "type": "linear",
         "zeroline": false
        }
       }
      },
      "image/png": "[encoded data removed]",
      "text/html": [
       "<div>                            <div id=\"83e235a7-bd8a-41af-9e07-2265b440bdef\" class=\"plotly-graph-div\" style=\"height:525px; width:100%;\"></div>            <script type=\"text/javascript\">                require([\"plotly\"], function(Plotly) {                    window.PLOTLYENV=window.PLOTLYENV || {};                                    if (document.getElementById(\"83e235a7-bd8a-41af-9e07-2265b440bdef\")) {                    Plotly.newPlot(                        \"83e235a7-bd8a-41af-9e07-2265b440bdef\",                        [{\"customdata\":[[\"Character: Hamlet\\u003cbr\\u003eGender: Male\\u003cbr\\u003ePlace: \\u003cbr\\u003eRole: \"],[\"Character: King Claudius\\u003cbr\\u003eGender: Male\\u003cbr\\u003ePlace: \\u003cbr\\u003eRole: \"],[\"Character: King Hamlet\\u003cbr\\u003eGender: Male\\u003cbr\\u003ePlace: \\u003cbr\\u003eRole: \"],[\"Character: Queen Gertrude\\u003cbr\\u003eGender: Female\\u003cbr\\u003ePlace: \\u003cbr\\u003eRole: \"],[\"Character: Polonius\\u003cbr\\u003eGender: Male\\u003cbr\\u003ePlace: \\u003cbr\\u003eRole: \"],[\"Character: Laertes\\u003cbr\\u003eGender: Male\\u003cbr\\u003ePlace: \\u003cbr\\u003eRole: \"],[\"Character: Ophelia\\u003cbr\\u003eGender: Female\\u003cbr\\u003ePlace: \\u003cbr\\u003eRole: \"],[\"Character: Horatio\\u003cbr\\u003eGender: Male\\u003cbr\\u003ePlace: \\u003cbr\\u003eRole: \"],[\"Character: Rosencrantz\\u003cbr\\u003eGender: Male\\u003cbr\\u003ePlace: \\u003cbr\\u003eRole: \"],[\"Character: Guildenstern\\u003cbr\\u003eGender: Male\\u003cbr\\u003ePlace: \\u003cbr\\u003eRole: \"],[\"Character: Fortinbras\\u003cbr\\u003eGender: Male\\u003cbr\\u003ePlace: \\u003cbr\\u003eRole: \"],[\"Character: Voltimand\\u003cbr\\u003eGender: Male\\u003cbr\\u003ePlace: \\u003cbr\\u003eRole: \"],[\"Character: Cornelius\\u003cbr\\u003eGender: Male\\u003cbr\\u003ePlace: \\u003cbr\\u003eRole: \"],[\"Character: Marcellus\\u003cbr\\u003eGender: Male\\u003cbr\\u003ePlace: \\u003cbr\\u003eRole: \"],[\"Character: Bernardo\\u003cbr\\u003eGender: Male\\u003cbr\\u003ePlace: \\u003cbr\\u003eRole: \"],[\"Character: Francisco\\u003cbr\\u003eGender: Male\\u003cbr\\u003ePlace: \\u003cbr\\u003eRole: \"],[\"Character: Osric\\u003cbr\\u003eGender: Male\\u003cbr\\u003ePlace: \\u003cbr\\u003eRole: \"],[\"Character: Reynaldo\\u003cbr\\u003eGender: Male\\u003cbr\\u003ePlace: \\u003cbr\\u003eRole: \"],[\"Character: Actors\\u003cbr\\u003eGender: Male\\u003cbr\\u003ePlace: \\u003cbr\\u003eRole: \"]],\"hoverinfo\":\"text\",\"marker\":{\"color\":[\"lightblue\",\"lightblue\",\"lightblue\",\"red\",\"lightblue\",\"lightblue\",\"red\",\"lightblue\",\"lightblue\",\"lightblue\",\"lightblue\",\"lightblue\",\"lightblue\",\"lightblue\",\"lightblue\",\"lightblue\",\"lightblue\",\"lightblue\",\"lightblue\"],\"showscale\":false},\"mode\":\"markers+text\",\"text\":[\"Hamlet\",\"King Claudius\",\"King Hamlet\",\"Queen Gertrude\",\"Polonius\",\"Laertes\",\"Ophelia\",\"Horatio\",\"Rosencrantz\",\"Guildenstern\",\"Fortinbras\",\"Voltimand\",\"Cornelius\",\"Marcellus\",\"Bernardo\",\"Francisco\",\"Osric\",\"Reynaldo\",\"Actors\"],\"textfont\":{\"size\":10},\"textposition\":\"bottom center\",\"x\":[0.07682164538686348,0.97179227174974,-0.5973249876737311,-0.9251722120694426,0.679889152675484,-0.7748019690226063,0.9113491235226024,-0.7947332581931028,-0.42441671570058304,0.038914147726311056,0.6482787966167552,-0.8713662223941601,0.397358965859892,-0.9237657734486471,0.3448390091431433,0.9092721253025096,-0.34887528748497487,0.9631024559118425,-0.28116126790789514],\"y\":[1.0,0.1285812437095669,-0.8224182998402634,0.38539807723122266,0.6676192700816497,0.7207184060102347,-0.5144912068474367,-0.5539695340774043,0.7390827303086503,-0.9349907567142756,-0.7804492620682125,-0.250550451264304,0.8582743062408859,0.06224881565989175,-0.984596636601728,-0.20050006799935943,0.9654471860358731,0.4915579785233195,-0.9769617983883109],\"type\":\"scatter\",\"hovertemplate\":\"%{customdata}\"}],                        {\"template\":{\"data\":{\"histogram2dcontour\":[{\"type\":\"histogram2dcontour\",\"colorbar\":{\"outlinewidth\":0,\"ticks\":\"\"},\"colorscale\":[[0.0,\"#0d0887\"],[0.1111111111111111,\"#46039f\"],[0.2222222222222222,\"#7201a8\"],[0.3333333333333333,\"#9c179e\"],[0.4444444444444444,\"#bd3786\"],[0.5555555555555556,\"#d8576b\"],[0.6666666666666666,\"#ed7953\"],[0.7777777777777778,\"#fb9f3a\"],[0.8888888888888888,\"#fdca26\"],[1.0,\"#f0f921\"]]}],\"choropleth\":[{\"type\":\"choropleth\",\"colorbar\":{\"outlinewidth\":0,\"ticks\":\"\"}}],\"histogram2d\":[{\"type\":\"histogram2d\",\"colorbar\":{\"outlinewidth\":0,\"ticks\":\"\"},\"colorscale\":[[0.0,\"#0d0887\"],[0.1111111111111111,\"#46039f\"],[0.2222222222222222,\"#7201a8\"],[0.3333333333333333,\"#9c179e\"],[0.4444444444444444,\"#bd3786\"],[0.5555555555555556,\"#d8576b\"],[0.6666666666666666,\"#ed7953\"],[0.7777777777777778,\"#fb9f3a\"],[0.8888888888888888,\"#fdca26\"],[1.0,\"#f0f921\"]]}],\"heatmap\":[{\"type\":\"heatmap\",\"colorbar\":{\"outlinewidth\":0,\"ticks\":\"\"},\"colorscale\":[[0.0,\"#0d0887\"],[0.1111111111111111,\"#46039f\"],[0.2222222222222222,\"#7201a8\"],[0.3333333333333333,\"#9c179e\"],[0.4444444444444444,\"#bd3786\"],[0.5555555555555556,\"#d8576b\"],[0.6666666666666666,\"#ed7953\"],[0.7777777777777778,\"#fb9f3a\"],[0.8888888888888888,\"#fdca26\"],[1.0,\"#f0f921\"]]}],\"heatmapgl\":[{\"type\":\"heatmapgl\",\"colorbar\":{\"outlinewidth\":0,\"ticks\":\"\"},\"colorscale\":[[0.0,\"#0d0887\"],[0.1111111111111111,\"#46039f\"],[0.2222222222222222,\"#7201a8\"],[0.3333333333333333,\"#9c179e\"],[0.4444444444444444,\"#bd3786\"],[0.5555555555555556,\"#d8576b\"],[0.6666666666666666,\"#ed7953\"],[0.7777777777777778,\"#fb9f3a\"],[0.8888888888888888,\"#fdca26\"],[1.0,\"#f0f921\"]]}],\"contourcarpet\":[{\"type\":\"contourcarpet\",\"colorbar\":{\"outlinewidth\":0,\"ticks\":\"\"}}],\"contour\":[{\"type\":\"contour\",\"colorbar\":{\"outlinewidth\":0,\"ticks\":\"\"},\"colorscale\":[[0.0,\"#0d0887\"],[0.1111111111111111,\"#46039f\"],[0.2222222222222222,\"#7201a8\"],[0.3333333333333333,\"#9c179e\"],[0.4444444444444444,\"#bd3786\"],[0.5555555555555556,\"#d8576b\"],[0.6666666666666666,\"#ed7953\"],[0.7777777777777778,\"#fb9f3a\"],[0.8888888888888888,\"#fdca26\"],[1.0,\"#f0f921\"]]}],\"surface\":[{\"type\":\"surface\",\"colorbar\":{\"outlinewidth\":0,\"ticks\":\"\"},\"colorscale\":[[0.0,\"#0d0887\"],[0.1111111111111111,\"#46039f\"],[0.2222222222222222,\"#7201a8\"],[0.3333333333333333,\"#9c179e\"],[0.4444444444444444,\"#bd3786\"],[0.5555555555555556,\"#d8576b\"],[0.6666666666666666,\"#ed7953\"],[0.7777777777777778,\"#fb9f3a\"],[0.8888888888888888,\"#fdca26\"],[1.0,\"#f0f921\"]]}],\"mesh3d\":[{\"type\":\"mesh3d\",\"colorbar\":{\"outlinewidth\":0,\"ticks\":\"\"}}],\"scatter\":[{\"fillpattern\":{\"fillmode\":\"overlay\",\"size\":10,\"solidity\":0.2},\"type\":\"scatter\"}],\"parcoords\":[{\"type\":\"parcoords\",\"line\":{\"colorbar\":{\"outlinewidth\":0,\"ticks\":\"\"}}}],\"scatterpolargl\":[{\"type\":\"scatterpolargl\",\"marker\":{\"colorbar\":{\"outlinewidth\":0,\"ticks\":\"\"}}}],\"bar\":[{\"error_x\":{\"color\":\"#2a3f5f\"},\"error_y\":{\"color\":\"#2a3f5f\"},\"marker\":{\"line\":{\"color\":\"#E5ECF6\",\"width\":0.5},\"pattern\":{\"fillmode\":\"overlay\",\"size\":10,\"solidity\":0.2}},\"type\":\"bar\"}],\"scattergeo\":[{\"type\":\"scattergeo\",\"marker\":{\"colorbar\":{\"outlinewidth\":0,\"ticks\":\"\"}}}],\"scatterpolar\":[{\"type\":\"scatterpolar\",\"marker\":{\"colorbar\":{\"outlinewidth\":0,\"ticks\":\"\"}}}],\"histogram\":[{\"marker\":{\"pattern\":{\"fillmode\":\"overlay\",\"size\":10,\"solidity\":0.2}},\"type\":\"histogram\"}],\"scattergl\":[{\"type\":\"scattergl\",\"marker\":{\"colorbar\":{\"outlinewidth\":0,\"ticks\":\"\"}}}],\"scatter3d\":[{\"type\":\"scatter3d\",\"line\":{\"colorbar\":{\"outlinewidth\":0,\"ticks\":\"\"}},\"marker\":{\"colorbar\":{\"outlinewidth\":0,\"ticks\":\"\"}}}],\"scattermapbox\":[{\"type\":\"scattermapbox\",\"marker\":{\"colorbar\":{\"outlinewidth\":0,\"ticks\":\"\"}}}],\"scatterternary\":[{\"type\":\"scatterternary\",\"marker\":{\"colorbar\":{\"outlinewidth\":0,\"ticks\":\"\"}}}],\"scattercarpet\":[{\"type\":\"scattercarpet\",\"marker\":{\"colorbar\":{\"outlinewidth\":0,\"ticks\":\"\"}}}],\"carpet\":[{\"aaxis\":{\"endlinecolor\":\"#2a3f5f\",\"gridcolor\":\"white\",\"linecolor\":\"white\",\"minorgridcolor\":\"white\",\"startlinecolor\":\"#2a3f5f\"},\"baxis\":{\"endlinecolor\":\"#2a3f5f\",\"gridcolor\":\"white\",\"linecolor\":\"white\",\"minorgridcolor\":\"white\",\"startlinecolor\":\"#2a3f5f\"},\"type\":\"carpet\"}],\"table\":[{\"cells\":{\"fill\":{\"color\":\"#EBF0F8\"},\"line\":{\"color\":\"white\"}},\"header\":{\"fill\":{\"color\":\"#C8D4E3\"},\"line\":{\"color\":\"white\"}},\"type\":\"table\"}],\"barpolar\":[{\"marker\":{\"line\":{\"color\":\"#E5ECF6\",\"width\":0.5},\"pattern\":{\"fillmode\":\"overlay\",\"size\":10,\"solidity\":0.2}},\"type\":\"barpolar\"}],\"pie\":[{\"automargin\":true,\"type\":\"pie\"}]},\"layout\":{\"autotypenumbers\":\"strict\",\"colorway\":[\"#636efa\",\"#EF553B\",\"#00cc96\",\"#ab63fa\",\"#FFA15A\",\"#19d3f3\",\"#FF6692\",\"#B6E880\",\"#FF97FF\",\"#FECB52\"],\"font\":{\"color\":\"#2a3f5f\"},\"hovermode\":\"closest\",\"hoverlabel\":{\"align\":\"left\"},\"paper_bgcolor\":\"white\",\"plot_bgcolor\":\"#E5ECF6\",\"polar\":{\"bgcolor\":\"#E5ECF6\",\"angularaxis\":{\"gridcolor\":\"white\",\"linecolor\":\"white\",\"ticks\":\"\"},\"radialaxis\":{\"gridcolor\":\"white\",\"linecolor\":\"white\",\"ticks\":\"\"}},\"ternary\":{\"bgcolor\":\"#E5ECF6\",\"aaxis\":{\"gridcolor\":\"white\",\"linecolor\":\"white\",\"ticks\":\"\"},\"baxis\":{\"gridcolor\":\"white\",\"linecolor\":\"white\",\"ticks\":\"\"},\"caxis\":{\"gridcolor\":\"white\",\"linecolor\":\"white\",\"ticks\":\"\"}},\"coloraxis\":{\"colorbar\":{\"outlinewidth\":0,\"ticks\":\"\"}},\"colorscale\":{\"sequential\":[[0.0,\"#0d0887\"],[0.1111111111111111,\"#46039f\"],[0.2222222222222222,\"#7201a8\"],[0.3333333333333333,\"#9c179e\"],[0.4444444444444444,\"#bd3786\"],[0.5555555555555556,\"#d8576b\"],[0.6666666666666666,\"#ed7953\"],[0.7777777777777778,\"#fb9f3a\"],[0.8888888888888888,\"#fdca26\"],[1.0,\"#f0f921\"]],\"sequentialminus\":[[0.0,\"#0d0887\"],[0.1111111111111111,\"#46039f\"],[0.2222222222222222,\"#7201a8\"],[0.3333333333333333,\"#9c179e\"],[0.4444444444444444,\"#bd3786\"],[0.5555555555555556,\"#d8576b\"],[0.6666666666666666,\"#ed7953\"],[0.7777777777777778,\"#fb9f3a\"],[0.8888888888888888,\"#fdca26\"],[1.0,\"#f0f921\"]],\"diverging\":[[0,\"#8e0152\"],[0.1,\"#c51b7d\"],[0.2,\"#de77ae\"],[0.3,\"#f1b6da\"],[0.4,\"#fde0ef\"],[0.5,\"#f7f7f7\"],[0.6,\"#e6f5d0\"],[0.7,\"#b8e186\"],[0.8,\"#7fbc41\"],[0.9,\"#4d9221\"],[1,\"#276419\"]]},\"xaxis\":{\"gridcolor\":\"white\",\"linecolor\":\"white\",\"ticks\":\"\",\"title\":{\"standoff\":15},\"zerolinecolor\":\"white\",\"automargin\":true,\"zerolinewidth\":2},\"yaxis\":{\"gridcolor\":\"white\",\"linecolor\":\"white\",\"ticks\":\"\",\"title\":{\"standoff\":15},\"zerolinecolor\":\"white\",\"automargin\":true,\"zerolinewidth\":2},\"scene\":{\"xaxis\":{\"backgroundcolor\":\"#E5ECF6\",\"gridcolor\":\"white\",\"linecolor\":\"white\",\"showbackground\":true,\"ticks\":\"\",\"zerolinecolor\":\"white\",\"gridwidth\":2},\"yaxis\":{\"backgroundcolor\":\"#E5ECF6\",\"gridcolor\":\"white\",\"linecolor\":\"white\",\"showbackground\":true,\"ticks\":\"\",\"zerolinecolor\":\"white\",\"gridwidth\":2},\"zaxis\":{\"backgroundcolor\":\"#E5ECF6\",\"gridcolor\":\"white\",\"linecolor\":\"white\",\"showbackground\":true,\"ticks\":\"\",\"zerolinecolor\":\"white\",\"gridwidth\":2}},\"shapedefaults\":{\"line\":{\"color\":\"#2a3f5f\"}},\"annotationdefaults\":{\"arrowcolor\":\"#2a3f5f\",\"arrowhead\":0,\"arrowwidth\":1},\"geo\":{\"bgcolor\":\"white\",\"landcolor\":\"#E5ECF6\",\"subunitcolor\":\"white\",\"showland\":true,\"showlakes\":true,\"lakecolor\":\"white\"},\"title\":{\"x\":0.05},\"mapbox\":{\"style\":\"light\"}}},\"showlegend\":false,\"title\":{\"text\":\"Hamlet's Network\"},\"xaxis\":{\"showgrid\":false,\"zeroline\":false},\"yaxis\":{\"showgrid\":false,\"zeroline\":false}},                        {\"responsive\": true}                    ).then(function(){\n",
       "                            \n",
       "var gd = document.getElementById('83e235a7-bd8a-41af-9e07-2265b440bdef');\n",
       "var x = new MutationObserver(function (mutations, observer) {{\n",
       "        var display = window.getComputedStyle(gd).display;\n",
       "        if (!display || display === 'none') {{\n",
       "            console.log([gd, 'removed!']);\n",
       "            Plotly.purge(gd);\n",
       "            observer.disconnect();\n",
       "        }}\n",
       "}});\n",
       "\n",
       "// Listen for the removal of the full notebook cells\n",
       "var notebookContainer = gd.closest('#notebook-container');\n",
       "if (notebookContainer) {{\n",
       "    x.observe(notebookContainer, {childList: true});\n",
       "}}\n",
       "\n",
       "// Listen for the clearing of the current output cell\n",
       "var outputEl = gd.closest('.output');\n",
       "if (outputEl) {{\n",
       "    x.observe(outputEl, {childList: true});\n",
       "}}\n",
       "\n",
       "                        })                };                });            </script>        </div>"
      ]
     },
     "metadata": {},
     "output_type": "display_data"
    }
   ],
   "source": [
    "import pandas as pd\n",
    "import networkx as nx\n",
    "import matplotlib.pyplot as plt\n",
    "import plotly.graph_objects as go\n",
    "import pickle\n",
    "\n",
    "# Dizionario\n",
    "genere_dict = {\n",
    " \"Hamlet\": \"Male\",\n",
    "    \"King Claudius\": \"Male\",\n",
    "    \"King Hamlet\": \"Male\",\n",
    "    \"Queen Gertrude\": \"Female\",\n",
    "    \"Polonius\": \"Male\",\n",
    "    \"Laertes\": \"Male\",\n",
    "    \"Ophelia\": \"Female\",\n",
    "    \"Horatio\": \"Male\",\n",
    "    \"Rosencrantz\": \"Male\",\n",
    "    \"Guildenstern\": \"Male\",\n",
    "    \"Fortinbras\": \"Male\",\n",
    "    \"Voltimand\": \"Male\",\n",
    "    \"Cornelius\" : \"Male\",\n",
    "    \"Marcellus\": \"Male\",\n",
    "    \"Bernardo\": \"Male\",\n",
    "    \"Francisco\": \"Male\",\n",
    "    \"Osric\": \"Male\",\n",
    "    \"Reynaldo\":\"Male\",\n",
    "    \"Actors\": \"Male\"  \n",
    "}\n",
    "\n",
    "# Creazione del DataFrame\n",
    "attributes_df = pd.DataFrame(list(genere_dict.items()), columns=['Character', 'Gender'])\n",
    "\n",
    "# Aggiunta delle colonne vuote 'role' e 'place'\n",
    "attributes_df = attributes_df.assign(Role='', Place='')\n",
    "\n",
    "# Visualizzazione del DataFrame aggiornato\n",
    "print(attributes_df)\n",
    "\n",
    "# Salvataggio in un file CSV\n",
    "attributes_df.to_csv('dataset/attributes.csv', index=False)\n",
    "\n",
    "\n",
    "# Creazione del grafo\n",
    "G = nx.Graph()\n",
    "\n",
    "\n",
    "# Aggiunta dei nodi (personaggi) con attributi di genere, luogo e descrizione\n",
    "for idx, character in enumerate(attributes_df['Character']):\n",
    "    gender = attributes_df['Gender'][idx]\n",
    "    role = attributes_df['Role'][idx]\n",
    "    place = attributes_df['Place'][idx]\n",
    "    G.add_node(character, gender=gender, role=role, place=place)\n",
    "\n",
    "\n",
    "# Creazione del layout del grafo\n",
    "pos = nx.spring_layout(G, seed=42)\n",
    "\n",
    "\n",
    "# Creazione del grafico Plotly\n",
    "edge_trace = []\n",
    "for edge in G.edges():\n",
    "    x0, y0 = pos[edge[0]]\n",
    "    x1, y1 = pos[edge[1]]\n",
    "    edge_trace.append(go.Scatter(x=(x0, x1, None), y=(y0, y1, None), mode='lines', line=dict(width=0.5), hoverinfo='none'))\n",
    "\n",
    "\n",
    "node_trace = go.Scatter(\n",
    "    x=[pos[node][0] for node in G.nodes()],\n",
    "    y=[pos[node][1] for node in G.nodes()],\n",
    "    mode='markers+text',\n",
    "    hoverinfo='text',\n",
    "    marker=dict(\n",
    "        showscale=False,\n",
    "        color=['red' if G.nodes[node]['gender'] == 'Female' else 'lightblue' for node in G.nodes()]\n",
    "    ),\n",
    "    text=[node for node in G.nodes()],\n",
    "    textposition='bottom center',\n",
    "    textfont=dict(size=10),\n",
    "    customdata=[[f\"Character: {node}<br>Gender: {G.nodes[node]['gender']}<br>Place: {G.nodes[node]['place']}<br>Role: {G.nodes[node]['role']}\"] for node in G.nodes()]\n",
    ")\n",
    "\n",
    "\n",
    "fig = go.Figure(edge_trace + [node_trace])\n",
    "fig.update_traces(\n",
    "    hovertemplate='%{customdata}',  # Visualizza gli attributi al passaggio del mouse\n",
    ")\n",
    "\n",
    "\n",
    "fig.update_layout(showlegend=False, title=\"Hamlet's Network\")\n",
    "fig.update_xaxes(showgrid=False, zeroline=False)\n",
    "fig.update_yaxes(showgrid=False, zeroline=False)\n",
    "fig.show()\n",
    "\n",
    "nx.write_gexf(G, 'graphs/initial_graph.gexf')"
   ]
  },
  {
   "cell_type": "markdown",
   "id": "813abd38-3ce5-400f-81d7-5d24fb65c1e6",
   "metadata": {},
   "source": [
    "1. Relazioni familiari tra personaggi:\n",
    "\n",
    "Re Claudio: Fratello del defunto re (padre di Amleto), attuale re di Danimarca. x\n",
    "Regina Gertrude: Moglie di Re Claudio, madre di Amleto. x\n",
    "Amleto: Figlio del defunto re, principe di Danimarca. x\n",
    "Polonio: Ciambellano, padre di Laerte e Ofelia. x\n",
    "Laerte: Figlio di Polonio, fratello di Ofelia.  x\n",
    "Ofelia: Figlia di Polonio, sorella di Laerte, interesse amoroso di Amleto. x\n",
    "\n",
    "Fortebraccio: Padre di Fortebraccio (figlio), menzionato come avversario del defunto re in un duello.\n",
    "\n",
    "2. Interazioni e dialoghi tra personaggi:\n",
    "\n",
    "Amleto e Orazio: Condividono le informazioni sul fantasma, pianificano l'incontro e la conversazione con lo spettro.\n",
    "Amleto e Ofelia: Dialogo in cui Amleto, influenzato dalle rivelazioni dello spettro, respinge Ofelia e la consiglia di diventare suora.\n",
    "Re Claudio e Polonio: Dialogo sullo stato di Amleto e sospetto riguardo alle azioni del principe.\n",
    "Amleto e Rosencrantz/Guildenstern: Interazione con gli amici di università, con Amleto che sospetta la loro lealtà.\n",
    "Amleto e attori: Amleto consiglia agli attori di rappresentare \"L'assassinio di Gonzago\" per verificare la colpevolezza del re.\n",
    "Amleto e Polonio: Amleto uccide Polonio per errore, scambiandolo per il re durante un confronto con la madre.\n",
    "Laerte e Re Claudio: Laerte accusa il re della morte di Polonio e chiede giustizia.\n",
    "Orazio e Amleto: Orazio informa Amleto delle notizie sulla nave e del ritorno imminente in Danimarca.\n",
    "Laerte e Ofelia: Laerte si scontra con Ofelia, entrambi afflitti dalla morte di Polonio.\n",
    "\n",
    "3. Co-occorrenza nella stessa scena:\n",
    "\n",
    "Consiglio reale: Re Claudio, Regina Gertrude, Amleto, Polonio, Laerte, ambasciatori Cornelio e Voltimando, altri presenti.\n",
    "Dialogo tra Amleto e Orazio sulle mura di Elsinora.\n",
    "Incontro tra Amleto e Ofelia nei giardini del castello.\n",
    "Riunione tra Rosencrantz, Guildenstern e Amleto per indagare sulla sua malinconia.\n",
    "Scena del teatro con l'interpretazione de \"L'assassinio di Gonzago\".\n",
    "Incontro tra Amleto e Laerte durante il funerale di Ofelia.\n",
    "Duello finale tra Amleto e Laerte sotto la supervisione del re.\n",
    "Scena del confronto finale con la morte di vari personaggi, tra cui il re, Laerte e Amleto.\n",
    "\n",
    "\n",
    "\n",
    "\n",
    "\n",
    "\n",
    "Nodi di Interazioni:\n",
    "\n",
    "Dialoghi diretti:\n",
    "\n",
    "Arco tra Amleto e Orazio\n",
    "Arco tra Amleto e Ofelia\n",
    "Arco tra Re Claudio e Polonio\n",
    "Arco tra Amleto e Rosencrantz/Guildenstern\n",
    "Arco tra Amleto e attori\n",
    "Arco tra Amleto e Polonio\n",
    "Arco tra Laerte e Re Claudio\n",
    "Arco tra Orazio e Amleto\n",
    "Arco tra Laerte e Ofelia\n",
    "\n",
    "\n",
    "Nodi di Co-occorrenza:\n",
    "\n",
    "Scene specifiche:\n",
    "\n",
    "Arco tra Consiglio reale e Re Claudio, Regina Gertrude, Amleto, Polonio, Laerte, ambasciatori Cornelio e Voltimando, altri presenti.\n",
    "Arco tra Scene del teatro e Amleto, attori, altri spettatori.\n",
    "Arco tra Funerale di Ofelia e Amleto, Laerte, Orazio, altri partecipanti.\n",
    "Arco tra Duello finale e Amleto, Laerte, Re Claudio, Orazio, altri presenti.\n",
    "Arco tra Confronto finale e Amleto, Laerte, Re Claudio, altri personaggi chiave.\n",
    "\n",
    "Relazioni temporali:\n",
    "Arco tra Fantasma e Orazio, Marcello, Sentinella, altri presenti durante l'apparizione.\n",
    "Arco tra Notte dell'incontro e Amleto, Orazio, Sentinella, Marcello.\n",
    "Arco tra Incontro sulle mura e Amleto, Orazio, Sentinella.\n",
    "Arco tra Giorno del funerale e Laerte, Amleto, Re Claudio, Ofelia.\n",
    "\n",
    "Rappresentazioni teatrali:\n",
    "Arco tra Scena del teatro e Amleto, attori, altri spettatori.\n",
    "Arco tra L'assassinio di Gonzago e Amleto, attori, altri spettatori.\n",
    "\n",
    "Corrispondenza e informazioni:\n",
    "Arco tra Lettera di Amleto e Orazio, corriere, Re Claudio.\n",
    "Arco tra Informazioni sulla nave e Orazio, Amleto, altri."
   ]
  },
  {
   "cell_type": "code",
   "execution_count": 26,
   "id": "b20d575c-f035-4320-aaae-c8c8f1c2fe3c",
   "metadata": {
    "tags": []
   },
   "outputs": [],
   "source": [
    "import numpy as np\n",
    "import pandas as pd\n",
    "import networkx as nx\n",
    "\n",
    "# Lista dei personaggi unici\n",
    "characters = [\"Hamlet\",\n",
    "    \"King Claudius\",\n",
    "    \"King Hamlet\",\n",
    "    \"Queen Gertrude\",\n",
    "    \"Polonius\",\n",
    "    \"Laertes\",\n",
    "    \"Ophelia\",\n",
    "    \"Horatio\",\n",
    "    \"Rosencrantz\",\n",
    "    \"Guildenstern\",\n",
    "    \"Fortinbras\",\n",
    "    \"Voltimand\",\n",
    "    \"Cornelius\",\n",
    "    \"Marcellus\",\n",
    "    \"Bernardo\",\n",
    "    \"Francisco\",\n",
    "    \"Osric\",\n",
    "    \"Reynaldo\",\n",
    "    \"Actors\"]\n",
    "\n",
    "# Creazione di matrici di adiacenza per relazioni, co-occorrenze e interazioni\n",
    "relationships_matrix = np.zeros((len(characters), len(characters)), dtype=int)\n",
    "cooc_matrix = np.zeros((len(characters), len(characters)), dtype=int)\n",
    "interactions_matrix = np.zeros((len(characters), len(characters)), dtype=int)\n",
    "\n",
    "# DataFrame per rappresentare le matrici di adiacenza\n",
    "relationships_df = pd.DataFrame(relationships_matrix, index=characters, columns=characters)\n",
    "cooc_df = pd.DataFrame(cooc_matrix, index=characters, columns=characters)\n",
    "interactions_df = pd.DataFrame(interactions_matrix, index=characters, columns=characters)\n",
    "\n",
    "# Popolamento delle matrici di adiacenza in base alle relazioni, co-occorrenze e interazioni\n",
    "\n",
    "# Ad esempio, se Amleto e Re Amleto hanno una relazione, incrementa il valore corrispondente nella matrice relazioni\n",
    "relationships_df.loc['Hamlet', 'King Hamlet'] += 1 #type: fatherhood\n",
    "relationships_df.loc['Hamlet', 'Queen Gertrude'] += 1 #type: motherhood\n",
    "relationships_df.loc['Hamlet', 'King Claudius'] += 1 #type: unclehood\n",
    "relationships_df.loc['Hamlet', 'Ophelia'] += 1 #type: relationship\n",
    "relationships_df.loc['King Claudius', 'Queen Gertrude'] += 1 #type: marriage\n",
    "relationships_df.loc['King Claudius', 'King Hamlet'] += 1 #type: brotherhood\n",
    "relationships_df.loc['Polonius', 'Laertes'] += 1 #son\n",
    "relationships_df.loc['Polonius', 'Ophelia'] += 1 #daughter\n",
    "relationships_df.loc['Laertes', 'Ophelia'] += 1 #brotherhood\n",
    "relationships_df.loc['Queen Gertrude', 'King Hamlet'] += 1 #ex husband\n",
    "relationships_df.loc['Hamlet', 'Horatio'] += 1 #friendship\n",
    "\n",
    "\n",
    "#Interazioni\n",
    "interactions_df.loc['Hamlet', 'Horatio'] += 2 #Condividono le informazioni sul fantasma, pianificano l'incontro e la conversazione con lo spettro, Orazio e Amleto: Orazio informa Amleto delle notizie sulla nave e del ritorno imminente in Danimarca.\n",
    "interactions_df.loc['Hamlet', 'Ophelia'] += 1 #Dialogo in cui Amleto, influenzato dalle rivelazioni dello spettro, respinge Ofelia e la consiglia di diventare suora.\n",
    "interactions_df.loc['King Claudius', 'Polonius'] += 1 #Dialogo sullo stato di Amleto e sospetto riguardo alle azioni del principe.\n",
    "interactions_df.loc['Hamlet', 'Rosencrantz'] += 1 #Interazione con gli amici di università, con Amleto che sospetta la loro lealtà.\n",
    "interactions_df.loc['Hamlet', 'Guildenstern'] += 1  #Interazione con gli amici di università, con Amleto che sospetta la loro lealtà.                \n",
    "interactions_df.loc['Hamlet', 'Actors'] += 1 #Amleto consiglia agli attori di rappresentare \"L'assassinio di Gonzago\" per verificare la colpevolezza del re.\n",
    "interactions_df.loc['Hamlet', 'Polonius'] += 1 #Amleto uccide Polonio per errore, scambiandolo per il re durante un confronto con la madre.\n",
    "interactions_df.loc['Laertes', 'King Claudius'] += 1 #Laerte accusa il re della morte di Polonio e chiede giustizia.\n",
    "interactions_df.loc['Laertes', 'Ophelia'] += 1 #Laerte e Ofelia: Laerte si scontra con Ofelia, entrambi afflitti dalla morte di Polonio.\n",
    "\n",
    "#Cooccorrenze\n",
    "cooc_df.loc['King Claudius', 'Queen Gertrude'] += 1 #Kingdom Council\n",
    "cooc_df.loc['King Claudius', 'Hamlet'] += 3 #Kingdom Council, Duello finale tra Amleto e Laerte sotto la supervisione del re, Scena del confronto finale con la morte di vari personaggi, tra cui il re, Laerte e Amleto.\n",
    "cooc_df.loc['King Claudius', 'Polonius'] += 1 #Kingdom Council\n",
    "cooc_df.loc['King Claudius', 'Laertes'] += 3 #Kingdom Council, Duello finale tra Amleto e Laerte sotto la supervisione del re, Scena del confronto finale con la morte di vari personaggi, tra cui il re, Laerte e Amleto.\n",
    "cooc_df.loc['King Claudius', 'Cornelius'] += 1 #Kingdom Council\n",
    "cooc_df.loc['King Claudius', 'Voltimand'] += 1 #Kingdom Council\n",
    "cooc_df.loc['Queen Gertrude', 'Hamlet'] += 1 #Kingdom Council\n",
    "cooc_df.loc['Queen Gertrude', 'Polonius'] += 1 #Kingdom Council\n",
    "cooc_df.loc['Queen Gertrude', 'Laertes'] += 1 #Kingdom Council\n",
    "cooc_df.loc['Queen Gertrude', 'Cornelius'] += 1 #Kingdom Council\n",
    "cooc_df.loc['Queen Gertrude', 'Voltimand'] += 1 #Kingdom Council\n",
    "cooc_df.loc['Hamlet', 'Polonius'] += 1 #Kingdom Council\n",
    "cooc_df.loc['Hamlet', 'Laertes'] += 4 #Kingdom Council, #Incontro tra Amleto e Laerte durante il funerale di Ofelia, Duello finale tra Amleto e Laerte sotto la supervisione del re, Scena del confronto finale con la morte di vari personaggi, tra cui il re, Laerte e Amleto.\n",
    "cooc_df.loc['Hamlet', 'Cornelius'] += 1 #Kingdom Council\n",
    "cooc_df.loc['Hamlet', 'Voltimand'] += 1 #Kingdom Council\n",
    "cooc_df.loc['Polonius', 'Laertes'] += 1 #Kingdom Council\n",
    "cooc_df.loc['Polonius', 'Cornelius'] += 1 #Kingdom Council\n",
    "cooc_df.loc['Polonius', 'Voltimand'] += 1 #Kingdom Council\n",
    "cooc_df.loc['Laertes', 'Cornelius'] += 1 #Kingdom Council\n",
    "cooc_df.loc['Laertes', 'Voltimand'] += 1 #Kingdom Council\n",
    "cooc_df.loc['Voltimand', 'Cornelius'] += 1 #Kingdom Council\n",
    "cooc_df.loc['Hamlet', 'Horatio'] += 2, #Dialogo tra Amleto e Orazio sulle mura di Elsinora, Incontro tra Amleto e Laerte durante il funerale di Ofelia\n",
    "cooc_df.loc['Hamlet', 'Ophelia'] += 1 #Incontro tra Amleto e Ofelia nei giardini del castello.\n",
    "cooc_df.loc['Hamlet', 'Rosencrantz'] += 1  #Riunione tra Rosencrantz, Guildenstern e Amleto per indagare sulla sua malinconia.\n",
    "cooc_df.loc['Hamlet', 'Guildenstern'] += 1 #Riunione tra Rosencrantz, Guildenstern e Amleto per indagare sulla sua malinconia.\n",
    "cooc_df.loc['Rosencrantz', 'Guildenstern'] += 1  #Riunione tra Rosencrantz, Guildenstern e Amleto per indagare sulla sua malinconia.\n",
    "cooc_df.loc['King Hamlet', 'Horatio'] += 1 #Fantasma e Orazio, Marcello, Sentinella, altri presenti durante l'apparizione.\n",
    "cooc_df.loc['King Hamlet', 'Marcellus'] += 1 #Fantasma e Orazio, Marcello, Sentinella, altri presenti durante l'apparizione.\n",
    "cooc_df.loc['King Hamlet', 'Bernardo'] += 1 #Fantasma e Orazio, Marcello, Sentinella, altri presenti durante l'apparizione.\n",
    "cooc_df.loc['King Hamlet', 'Francisco']  += 1 #Fantasma e Orazio, Marcello, Sentinella, altri presenti durante l'apparizione.\n",
    "cooc_df.loc['Horatio', 'Marcellus'] += 2 #Fantasma e Orazio, Marcello, Sentinella, altri presenti durante l'apparizione.\n",
    "cooc_df.loc['Horatio', 'Bernardo'] += 2 #Fantasma e Orazio, Marcello, Sentinella, altri presenti durante l'apparizione.\n",
    "cooc_df.loc['Horatio', 'Francisco']  += 2 #Fantasma e Orazio, Marcello, Sentinella, altri presenti durante l'apparizione.\n",
    "cooc_df.loc['Marcellus', 'Bernardo'] += 2 #Fantasma e Orazio, Marcello, Sentinella, altri presenti durante l'apparizione.\n",
    "cooc_df.loc['Marcellus', 'Francisco'] += 2 #Fantasma e Orazio, Marcello, Sentinella, altri presenti durante l'apparizione.\n",
    "cooc_df.loc['Bernardo', 'Francisco']  += 2 #Fantasma e Orazio, Marcello, Sentinella, altri presenti durante l'apparizione.\n",
    "cooc_df.loc['Hamlet', 'Marcellus'] += 1 # Incontro sulle mura e Amleto, Orazio, Sentinella.\n",
    "cooc_df.loc['Hamlet', 'Bernardo'] += 1 #Incontro sulle mura e Amleto, Orazio, Sentinella.\n",
    "cooc_df.loc['Hamlet', 'Francisco']  += 1 #Incontro sulle mura e Amleto, Orazio, Sentinella.\n",
    "\n",
    "# Esporta i DataFrame in file CSV se necessario\n",
    "relationships_df.to_csv('dataset/relazioni_matrix_amleto.csv')\n",
    "cooc_df.to_csv('dataset/cooc_matrix_amleto.csv')\n",
    "interactions_df.to_csv('dataset/interazioni_matrix_amleto.csv')\n",
    "\n",
    "\n",
    "#Corrispondenza e informazioni:\n",
    "#Arco tra Lettera di Amleto e Orazio, corriere, Re Claudio.\n",
    "#Arco tra Informazioni sulla nave e Orazio, Amleto, altri."
   ]
  },
  {
   "cell_type": "markdown",
   "id": "ed7849b3-3590-4689-a763-bca233744c22",
   "metadata": {},
   "source": [
    "## EDGES: \n",
    "\n",
    "1. RELATIONSHIPS\n",
    "2. INTERACTIONS\n",
    "3. CO-OCCURRENCE"
   ]
  },
  {
   "cell_type": "code",
   "execution_count": 27,
   "id": "f69001e5-10cd-4c77-9156-5691f5bfda46",
   "metadata": {},
   "outputs": [
    {
     "data": {
      "application/vnd.plotly.v1+json": {
       "config": {
        "plotlyServerURL": "https://plot.ly"
       },
       "data": [
        {
         "hoverinfo": "none",
         "hovertemplate": "%{customdata}",
         "line": {
          "color": "green",
          "width": 1
         },
         "mode": "lines",
         "type": "scatter",
         "x": [
          -0.04707593642343473,
          -0.09577069491395049,
          null
         ],
         "y": [
          -0.03815383741604978,
          0.03736336848013901,
          null
         ]
        },
        {
         "hoverinfo": "none",
         "hovertemplate": "%{customdata}",
         "line": {
          "color": "orange",
          "width": 1
         },
         "mode": "lines",
         "type": "scatter",
         "x": [
          -0.04707593642343473,
          -0.1459176897782076,
          null
         ],
         "y": [
          -0.03815383741604978,
          -0.07380977420694619,
          null
         ]
        },
        {
         "hoverinfo": "none",
         "hovertemplate": "%{customdata}",
         "line": {
          "color": "green",
          "width": 1
         },
         "mode": "lines",
         "type": "scatter",
         "x": [
          -0.04707593642343473,
          -0.13965823845311745,
          null
         ],
         "y": [
          -0.03815383741604978,
          0.04574277062371698,
          null
         ]
        },
        {
         "hoverinfo": "none",
         "hovertemplate": "%{customdata}",
         "line": {
          "color": "green",
          "width": 1
         },
         "mode": "lines",
         "type": "scatter",
         "x": [
          -0.04707593642343473,
          0.05140514879262931,
          null
         ],
         "y": [
          -0.03815383741604978,
          0.09211309856646721,
          null
         ]
        },
        {
         "hoverinfo": "none",
         "hovertemplate": "%{customdata}",
         "line": {
          "color": "green",
          "width": 1
         },
         "mode": "lines",
         "type": "scatter",
         "x": [
          -0.04707593642343473,
          -0.1605996711646021,
          null
         ],
         "y": [
          -0.03815383741604978,
          -0.1742222946937921,
          null
         ]
        },
        {
         "hoverinfo": "none",
         "hovertemplate": "%{customdata}",
         "line": {
          "color": "green",
          "width": 1
         },
         "mode": "lines",
         "type": "scatter",
         "x": [
          -0.04707593642343473,
          -0.03812129954848443,
          null
         ],
         "y": [
          -0.03815383741604978,
          0.07203784121895043,
          null
         ]
        },
        {
         "hoverinfo": "none",
         "hovertemplate": "%{customdata}",
         "line": {
          "color": "green",
          "width": 1
         },
         "mode": "lines",
         "type": "scatter",
         "x": [
          -0.04707593642343473,
          0.11551921125831867,
          null
         ],
         "y": [
          -0.03815383741604978,
          -0.10300196446981236,
          null
         ]
        },
        {
         "hoverinfo": "none",
         "hovertemplate": "%{customdata}",
         "line": {
          "color": "green",
          "width": 1
         },
         "mode": "lines",
         "type": "scatter",
         "x": [
          -0.04707593642343473,
          0.12962492728406547,
          null
         ],
         "y": [
          -0.03815383741604978,
          -0.03466931550559441,
          null
         ]
        },
        {
         "hoverinfo": "none",
         "hovertemplate": "%{customdata}",
         "line": {
          "color": "yellow",
          "width": 1
         },
         "mode": "lines",
         "type": "scatter",
         "x": [
          -0.04707593642343473,
          0.05034004375016022,
          null
         ],
         "y": [
          -0.03815383741604978,
          -0.19044384664065184,
          null
         ]
        },
        {
         "hoverinfo": "none",
         "hovertemplate": "%{customdata}",
         "line": {
          "color": "green",
          "width": 1
         },
         "mode": "lines",
         "type": "scatter",
         "x": [
          -0.04707593642343473,
          -0.04285317615708925,
          null
         ],
         "y": [
          -0.03815383741604978,
          0.11493472282188395,
          null
         ]
        },
        {
         "hoverinfo": "none",
         "hovertemplate": "%{customdata}",
         "line": {
          "color": "green",
          "width": 1
         },
         "mode": "lines",
         "type": "scatter",
         "x": [
          -0.04707593642343473,
          -0.13369585546349289,
          null
         ],
         "y": [
          -0.03815383741604978,
          0.10141364142193686,
          null
         ]
        },
        {
         "hoverinfo": "none",
         "hovertemplate": "%{customdata}",
         "line": {
          "color": "green",
          "width": 1
         },
         "mode": "lines",
         "type": "scatter",
         "x": [
          -0.04707593642343473,
          -0.09435202339429453,
          null
         ],
         "y": [
          -0.03815383741604978,
          0.12356575594051238,
          null
         ]
        },
        {
         "hoverinfo": "none",
         "hovertemplate": "%{customdata}",
         "line": {
          "color": "green",
          "width": 1
         },
         "mode": "lines",
         "type": "scatter",
         "x": [
          -0.04707593642343473,
          -0.18560281896140818,
          null
         ],
         "y": [
          -0.03815383741604978,
          -0.12987156530889685,
          null
         ]
        },
        {
         "hoverinfo": "none",
         "hovertemplate": "%{customdata}",
         "line": {
          "color": "green",
          "width": 1
         },
         "mode": "lines",
         "type": "scatter",
         "x": [
          -0.04707593642343473,
          -0.10533948094891536,
          null
         ],
         "y": [
          -0.03815383741604978,
          -0.18763778767342548,
          null
         ]
        },
        {
         "hoverinfo": "none",
         "hovertemplate": "%{customdata}",
         "line": {
          "color": "green",
          "width": 1
         },
         "mode": "lines",
         "type": "scatter",
         "x": [
          -0.04707593642343473,
          -0.1050348453618567,
          null
         ],
         "y": [
          -0.03815383741604978,
          -0.1385279941380019,
          null
         ]
        },
        {
         "hoverinfo": "none",
         "hovertemplate": "%{customdata}",
         "line": {
          "color": "orange",
          "width": 1
         },
         "mode": "lines",
         "type": "scatter",
         "x": [
          -0.09577069491395049,
          -0.1459176897782076,
          null
         ],
         "y": [
          0.03736336848013901,
          -0.07380977420694619,
          null
         ]
        },
        {
         "hoverinfo": "none",
         "hovertemplate": "%{customdata}",
         "line": {
          "color": "green",
          "width": 1
         },
         "mode": "lines",
         "type": "scatter",
         "x": [
          -0.09577069491395049,
          -0.13965823845311745,
          null
         ],
         "y": [
          0.03736336848013901,
          0.04574277062371698,
          null
         ]
        },
        {
         "hoverinfo": "none",
         "hovertemplate": "%{customdata}",
         "line": {
          "color": "green",
          "width": 1
         },
         "mode": "lines",
         "type": "scatter",
         "x": [
          -0.09577069491395049,
          -0.03812129954848443,
          null
         ],
         "y": [
          0.03736336848013901,
          0.07203784121895043,
          null
         ]
        },
        {
         "hoverinfo": "none",
         "hovertemplate": "%{customdata}",
         "line": {
          "color": "green",
          "width": 1
         },
         "mode": "lines",
         "type": "scatter",
         "x": [
          -0.09577069491395049,
          -0.04285317615708925,
          null
         ],
         "y": [
          0.03736336848013901,
          0.11493472282188395,
          null
         ]
        },
        {
         "hoverinfo": "none",
         "hovertemplate": "%{customdata}",
         "line": {
          "color": "green",
          "width": 1
         },
         "mode": "lines",
         "type": "scatter",
         "x": [
          -0.09577069491395049,
          -0.13369585546349289,
          null
         ],
         "y": [
          0.03736336848013901,
          0.10141364142193686,
          null
         ]
        },
        {
         "hoverinfo": "none",
         "hovertemplate": "%{customdata}",
         "line": {
          "color": "green",
          "width": 1
         },
         "mode": "lines",
         "type": "scatter",
         "x": [
          -0.09577069491395049,
          -0.09435202339429453,
          null
         ],
         "y": [
          0.03736336848013901,
          0.12356575594051238,
          null
         ]
        },
        {
         "hoverinfo": "none",
         "hovertemplate": "%{customdata}",
         "line": {
          "color": "orange",
          "width": 1
         },
         "mode": "lines",
         "type": "scatter",
         "x": [
          -0.1459176897782076,
          -0.13965823845311745,
          null
         ],
         "y": [
          -0.07380977420694619,
          0.04574277062371698,
          null
         ]
        },
        {
         "hoverinfo": "none",
         "hovertemplate": "%{customdata}",
         "line": {
          "color": "green",
          "width": 1
         },
         "mode": "lines",
         "type": "scatter",
         "x": [
          -0.1459176897782076,
          -0.1605996711646021,
          null
         ],
         "y": [
          -0.07380977420694619,
          -0.1742222946937921,
          null
         ]
        },
        {
         "hoverinfo": "none",
         "hovertemplate": "%{customdata}",
         "line": {
          "color": "green",
          "width": 1
         },
         "mode": "lines",
         "type": "scatter",
         "x": [
          -0.1459176897782076,
          -0.18560281896140818,
          null
         ],
         "y": [
          -0.07380977420694619,
          -0.12987156530889685,
          null
         ]
        },
        {
         "hoverinfo": "none",
         "hovertemplate": "%{customdata}",
         "line": {
          "color": "green",
          "width": 1
         },
         "mode": "lines",
         "type": "scatter",
         "x": [
          -0.1459176897782076,
          -0.10533948094891536,
          null
         ],
         "y": [
          -0.07380977420694619,
          -0.18763778767342548,
          null
         ]
        },
        {
         "hoverinfo": "none",
         "hovertemplate": "%{customdata}",
         "line": {
          "color": "green",
          "width": 1
         },
         "mode": "lines",
         "type": "scatter",
         "x": [
          -0.1459176897782076,
          -0.1050348453618567,
          null
         ],
         "y": [
          -0.07380977420694619,
          -0.1385279941380019,
          null
         ]
        },
        {
         "hoverinfo": "none",
         "hovertemplate": "%{customdata}",
         "line": {
          "color": "green",
          "width": 1
         },
         "mode": "lines",
         "type": "scatter",
         "x": [
          -0.13965823845311745,
          -0.03812129954848443,
          null
         ],
         "y": [
          0.04574277062371698,
          0.07203784121895043,
          null
         ]
        },
        {
         "hoverinfo": "none",
         "hovertemplate": "%{customdata}",
         "line": {
          "color": "green",
          "width": 1
         },
         "mode": "lines",
         "type": "scatter",
         "x": [
          -0.13965823845311745,
          -0.04285317615708925,
          null
         ],
         "y": [
          0.04574277062371698,
          0.11493472282188395,
          null
         ]
        },
        {
         "hoverinfo": "none",
         "hovertemplate": "%{customdata}",
         "line": {
          "color": "green",
          "width": 1
         },
         "mode": "lines",
         "type": "scatter",
         "x": [
          -0.13965823845311745,
          -0.13369585546349289,
          null
         ],
         "y": [
          0.04574277062371698,
          0.10141364142193686,
          null
         ]
        },
        {
         "hoverinfo": "none",
         "hovertemplate": "%{customdata}",
         "line": {
          "color": "green",
          "width": 1
         },
         "mode": "lines",
         "type": "scatter",
         "x": [
          -0.13965823845311745,
          -0.09435202339429453,
          null
         ],
         "y": [
          0.04574277062371698,
          0.12356575594051238,
          null
         ]
        },
        {
         "hoverinfo": "none",
         "hovertemplate": "%{customdata}",
         "line": {
          "color": "green",
          "width": 1
         },
         "mode": "lines",
         "type": "scatter",
         "x": [
          -0.03812129954848443,
          -0.04285317615708925,
          null
         ],
         "y": [
          0.07203784121895043,
          0.11493472282188395,
          null
         ]
        },
        {
         "hoverinfo": "none",
         "hovertemplate": "%{customdata}",
         "line": {
          "color": "orange",
          "width": 1
         },
         "mode": "lines",
         "type": "scatter",
         "x": [
          -0.03812129954848443,
          0.05140514879262931,
          null
         ],
         "y": [
          0.07203784121895043,
          0.09211309856646721,
          null
         ]
        },
        {
         "hoverinfo": "none",
         "hovertemplate": "%{customdata}",
         "line": {
          "color": "green",
          "width": 1
         },
         "mode": "lines",
         "type": "scatter",
         "x": [
          -0.03812129954848443,
          -0.13369585546349289,
          null
         ],
         "y": [
          0.07203784121895043,
          0.10141364142193686,
          null
         ]
        },
        {
         "hoverinfo": "none",
         "hovertemplate": "%{customdata}",
         "line": {
          "color": "green",
          "width": 1
         },
         "mode": "lines",
         "type": "scatter",
         "x": [
          -0.03812129954848443,
          -0.09435202339429453,
          null
         ],
         "y": [
          0.07203784121895043,
          0.12356575594051238,
          null
         ]
        },
        {
         "hoverinfo": "none",
         "hovertemplate": "%{customdata}",
         "line": {
          "color": "yellow",
          "width": 1
         },
         "mode": "lines",
         "type": "scatter",
         "x": [
          -0.04285317615708925,
          0.05140514879262931,
          null
         ],
         "y": [
          0.11493472282188395,
          0.09211309856646721,
          null
         ]
        },
        {
         "hoverinfo": "none",
         "hovertemplate": "%{customdata}",
         "line": {
          "color": "green",
          "width": 1
         },
         "mode": "lines",
         "type": "scatter",
         "x": [
          -0.04285317615708925,
          -0.13369585546349289,
          null
         ],
         "y": [
          0.11493472282188395,
          0.10141364142193686,
          null
         ]
        },
        {
         "hoverinfo": "none",
         "hovertemplate": "%{customdata}",
         "line": {
          "color": "green",
          "width": 1
         },
         "mode": "lines",
         "type": "scatter",
         "x": [
          -0.04285317615708925,
          -0.09435202339429453,
          null
         ],
         "y": [
          0.11493472282188395,
          0.12356575594051238,
          null
         ]
        },
        {
         "hoverinfo": "none",
         "hovertemplate": "%{customdata}",
         "line": {
          "color": "green",
          "width": 1
         },
         "mode": "lines",
         "type": "scatter",
         "x": [
          -0.1605996711646021,
          -0.18560281896140818,
          null
         ],
         "y": [
          -0.1742222946937921,
          -0.12987156530889685,
          null
         ]
        },
        {
         "hoverinfo": "none",
         "hovertemplate": "%{customdata}",
         "line": {
          "color": "green",
          "width": 1
         },
         "mode": "lines",
         "type": "scatter",
         "x": [
          -0.1605996711646021,
          -0.10533948094891536,
          null
         ],
         "y": [
          -0.1742222946937921,
          -0.18763778767342548,
          null
         ]
        },
        {
         "hoverinfo": "none",
         "hovertemplate": "%{customdata}",
         "line": {
          "color": "green",
          "width": 1
         },
         "mode": "lines",
         "type": "scatter",
         "x": [
          -0.1605996711646021,
          -0.1050348453618567,
          null
         ],
         "y": [
          -0.1742222946937921,
          -0.1385279941380019,
          null
         ]
        },
        {
         "hoverinfo": "none",
         "hovertemplate": "%{customdata}",
         "line": {
          "color": "green",
          "width": 1
         },
         "mode": "lines",
         "type": "scatter",
         "x": [
          0.11551921125831867,
          0.12962492728406547,
          null
         ],
         "y": [
          -0.10300196446981236,
          -0.03466931550559441,
          null
         ]
        },
        {
         "hoverinfo": "none",
         "hovertemplate": "%{customdata}",
         "line": {
          "color": "green",
          "width": 1
         },
         "mode": "lines",
         "type": "scatter",
         "x": [
          -0.13369585546349289,
          -0.09435202339429453,
          null
         ],
         "y": [
          0.10141364142193686,
          0.12356575594051238,
          null
         ]
        },
        {
         "hoverinfo": "none",
         "hovertemplate": "%{customdata}",
         "line": {
          "color": "green",
          "width": 1
         },
         "mode": "lines",
         "type": "scatter",
         "x": [
          -0.18560281896140818,
          -0.10533948094891536,
          null
         ],
         "y": [
          -0.12987156530889685,
          -0.18763778767342548,
          null
         ]
        },
        {
         "hoverinfo": "none",
         "hovertemplate": "%{customdata}",
         "line": {
          "color": "green",
          "width": 1
         },
         "mode": "lines",
         "type": "scatter",
         "x": [
          -0.18560281896140818,
          -0.1050348453618567,
          null
         ],
         "y": [
          -0.12987156530889685,
          -0.1385279941380019,
          null
         ]
        },
        {
         "hoverinfo": "none",
         "hovertemplate": "%{customdata}",
         "line": {
          "color": "green",
          "width": 1
         },
         "mode": "lines",
         "type": "scatter",
         "x": [
          -0.10533948094891536,
          -0.1050348453618567,
          null
         ],
         "y": [
          -0.18763778767342548,
          -0.1385279941380019,
          null
         ]
        },
        {
         "customdata": [
          [
           "Character: Hamlet<br>Gender: Male<br>Place: <br>Role: "
          ],
          [
           "Character: King Claudius<br>Gender: Male<br>Place: <br>Role: "
          ],
          [
           "Character: King Hamlet<br>Gender: Male<br>Place: <br>Role: "
          ],
          [
           "Character: Queen Gertrude<br>Gender: Female<br>Place: <br>Role: "
          ],
          [
           "Character: Polonius<br>Gender: Male<br>Place: <br>Role: "
          ],
          [
           "Character: Laertes<br>Gender: Male<br>Place: <br>Role: "
          ],
          [
           "Character: Ophelia<br>Gender: Female<br>Place: <br>Role: "
          ],
          [
           "Character: Horatio<br>Gender: Male<br>Place: <br>Role: "
          ],
          [
           "Character: Rosencrantz<br>Gender: Male<br>Place: <br>Role: "
          ],
          [
           "Character: Guildenstern<br>Gender: Male<br>Place: <br>Role: "
          ],
          [
           "Character: Fortinbras<br>Gender: Male<br>Place: <br>Role: "
          ],
          [
           "Character: Voltimand<br>Gender: Male<br>Place: <br>Role: "
          ],
          [
           "Character: Cornelius<br>Gender: Male<br>Place: <br>Role: "
          ],
          [
           "Character: Marcellus<br>Gender: Male<br>Place: <br>Role: "
          ],
          [
           "Character: Bernardo<br>Gender: Male<br>Place: <br>Role: "
          ],
          [
           "Character: Francisco<br>Gender: Male<br>Place: <br>Role: "
          ],
          [
           "Character: Osric<br>Gender: Male<br>Place: <br>Role: "
          ],
          [
           "Character: Reynaldo<br>Gender: Male<br>Place: <br>Role: "
          ],
          [
           "Character: Actors<br>Gender: Male<br>Place: <br>Role: "
          ]
         ],
         "hoverinfo": "text",
         "hovertemplate": "%{customdata}",
         "marker": {
          "color": [
           "lightblue",
           "lightblue",
           "lightblue",
           "red",
           "lightblue",
           "lightblue",
           "red",
           "lightblue",
           "lightblue",
           "lightblue",
           "lightblue",
           "lightblue",
           "lightblue",
           "lightblue",
           "lightblue",
           "lightblue",
           "lightblue",
           "lightblue",
           "lightblue"
          ],
          "showscale": false
         },
         "mode": "markers+text",
         "text": [
          "Hamlet",
          "King Claudius",
          "King Hamlet",
          "Queen Gertrude",
          "Polonius",
          "Laertes",
          "Ophelia",
          "Horatio",
          "Rosencrantz",
          "Guildenstern",
          "Fortinbras",
          "Voltimand",
          "Cornelius",
          "Marcellus",
          "Bernardo",
          "Francisco",
          "Osric",
          "Reynaldo",
          "Actors"
         ],
         "textfont": {
          "size": 10
         },
         "textposition": "bottom center",
         "type": "scatter",
         "x": [
          -0.04707593642343473,
          -0.09577069491395049,
          -0.1459176897782076,
          -0.13965823845311745,
          -0.03812129954848443,
          -0.04285317615708925,
          0.05140514879262931,
          -0.1605996711646021,
          0.11551921125831867,
          0.12962492728406547,
          0.5473231496825186,
          -0.13369585546349289,
          -0.09435202339429453,
          -0.18560281896140818,
          -0.10533948094891536,
          -0.1050348453618567,
          -0.6001907501988389,
          1,
          0.05034004375016022
         ],
         "y": [
          -0.03815383741604978,
          0.03736336848013901,
          -0.07380977420694619,
          0.04574277062371698,
          0.07203784121895043,
          0.11493472282188395,
          0.09211309856646721,
          -0.1742222946937921,
          -0.10300196446981236,
          -0.03466931550559441,
          -0.9288253575390879,
          0.10141364142193686,
          0.12356575594051238,
          -0.12987156530889685,
          -0.18763778767342548,
          -0.1385279941380019,
          0.9263417135332048,
          0.4856508249854476,
          -0.19044384664065184
         ]
        }
       ],
       "layout": {
        "autosize": true,
        "showlegend": false,
        "template": {
         "data": {
          "bar": [
           {
            "error_x": {
             "color": "#2a3f5f"
            },
            "error_y": {
             "color": "#2a3f5f"
            },
            "marker": {
             "line": {
              "color": "#E5ECF6",
              "width": 0.5
             },
             "pattern": {
              "fillmode": "overlay",
              "size": 10,
              "solidity": 0.2
             }
            },
            "type": "bar"
           }
          ],
          "barpolar": [
           {
            "marker": {
             "line": {
              "color": "#E5ECF6",
              "width": 0.5
             },
             "pattern": {
              "fillmode": "overlay",
              "size": 10,
              "solidity": 0.2
             }
            },
            "type": "barpolar"
           }
          ],
          "carpet": [
           {
            "aaxis": {
             "endlinecolor": "#2a3f5f",
             "gridcolor": "white",
             "linecolor": "white",
             "minorgridcolor": "white",
             "startlinecolor": "#2a3f5f"
            },
            "baxis": {
             "endlinecolor": "#2a3f5f",
             "gridcolor": "white",
             "linecolor": "white",
             "minorgridcolor": "white",
             "startlinecolor": "#2a3f5f"
            },
            "type": "carpet"
           }
          ],
          "choropleth": [
           {
            "colorbar": {
             "outlinewidth": 0,
             "ticks": ""
            },
            "type": "choropleth"
           }
          ],
          "contour": [
           {
            "colorbar": {
             "outlinewidth": 0,
             "ticks": ""
            },
            "colorscale": [
             [
              0,
              "#0d0887"
             ],
             [
              0.1111111111111111,
              "#46039f"
             ],
             [
              0.2222222222222222,
              "#7201a8"
             ],
             [
              0.3333333333333333,
              "#9c179e"
             ],
             [
              0.4444444444444444,
              "#bd3786"
             ],
             [
              0.5555555555555556,
              "#d8576b"
             ],
             [
              0.6666666666666666,
              "#ed7953"
             ],
             [
              0.7777777777777778,
              "#fb9f3a"
             ],
             [
              0.8888888888888888,
              "#fdca26"
             ],
             [
              1,
              "#f0f921"
             ]
            ],
            "type": "contour"
           }
          ],
          "contourcarpet": [
           {
            "colorbar": {
             "outlinewidth": 0,
             "ticks": ""
            },
            "type": "contourcarpet"
           }
          ],
          "heatmap": [
           {
            "colorbar": {
             "outlinewidth": 0,
             "ticks": ""
            },
            "colorscale": [
             [
              0,
              "#0d0887"
             ],
             [
              0.1111111111111111,
              "#46039f"
             ],
             [
              0.2222222222222222,
              "#7201a8"
             ],
             [
              0.3333333333333333,
              "#9c179e"
             ],
             [
              0.4444444444444444,
              "#bd3786"
             ],
             [
              0.5555555555555556,
              "#d8576b"
             ],
             [
              0.6666666666666666,
              "#ed7953"
             ],
             [
              0.7777777777777778,
              "#fb9f3a"
             ],
             [
              0.8888888888888888,
              "#fdca26"
             ],
             [
              1,
              "#f0f921"
             ]
            ],
            "type": "heatmap"
           }
          ],
          "heatmapgl": [
           {
            "colorbar": {
             "outlinewidth": 0,
             "ticks": ""
            },
            "colorscale": [
             [
              0,
              "#0d0887"
             ],
             [
              0.1111111111111111,
              "#46039f"
             ],
             [
              0.2222222222222222,
              "#7201a8"
             ],
             [
              0.3333333333333333,
              "#9c179e"
             ],
             [
              0.4444444444444444,
              "#bd3786"
             ],
             [
              0.5555555555555556,
              "#d8576b"
             ],
             [
              0.6666666666666666,
              "#ed7953"
             ],
             [
              0.7777777777777778,
              "#fb9f3a"
             ],
             [
              0.8888888888888888,
              "#fdca26"
             ],
             [
              1,
              "#f0f921"
             ]
            ],
            "type": "heatmapgl"
           }
          ],
          "histogram": [
           {
            "marker": {
             "pattern": {
              "fillmode": "overlay",
              "size": 10,
              "solidity": 0.2
             }
            },
            "type": "histogram"
           }
          ],
          "histogram2d": [
           {
            "colorbar": {
             "outlinewidth": 0,
             "ticks": ""
            },
            "colorscale": [
             [
              0,
              "#0d0887"
             ],
             [
              0.1111111111111111,
              "#46039f"
             ],
             [
              0.2222222222222222,
              "#7201a8"
             ],
             [
              0.3333333333333333,
              "#9c179e"
             ],
             [
              0.4444444444444444,
              "#bd3786"
             ],
             [
              0.5555555555555556,
              "#d8576b"
             ],
             [
              0.6666666666666666,
              "#ed7953"
             ],
             [
              0.7777777777777778,
              "#fb9f3a"
             ],
             [
              0.8888888888888888,
              "#fdca26"
             ],
             [
              1,
              "#f0f921"
             ]
            ],
            "type": "histogram2d"
           }
          ],
          "histogram2dcontour": [
           {
            "colorbar": {
             "outlinewidth": 0,
             "ticks": ""
            },
            "colorscale": [
             [
              0,
              "#0d0887"
             ],
             [
              0.1111111111111111,
              "#46039f"
             ],
             [
              0.2222222222222222,
              "#7201a8"
             ],
             [
              0.3333333333333333,
              "#9c179e"
             ],
             [
              0.4444444444444444,
              "#bd3786"
             ],
             [
              0.5555555555555556,
              "#d8576b"
             ],
             [
              0.6666666666666666,
              "#ed7953"
             ],
             [
              0.7777777777777778,
              "#fb9f3a"
             ],
             [
              0.8888888888888888,
              "#fdca26"
             ],
             [
              1,
              "#f0f921"
             ]
            ],
            "type": "histogram2dcontour"
           }
          ],
          "mesh3d": [
           {
            "colorbar": {
             "outlinewidth": 0,
             "ticks": ""
            },
            "type": "mesh3d"
           }
          ],
          "parcoords": [
           {
            "line": {
             "colorbar": {
              "outlinewidth": 0,
              "ticks": ""
             }
            },
            "type": "parcoords"
           }
          ],
          "pie": [
           {
            "automargin": true,
            "type": "pie"
           }
          ],
          "scatter": [
           {
            "fillpattern": {
             "fillmode": "overlay",
             "size": 10,
             "solidity": 0.2
            },
            "type": "scatter"
           }
          ],
          "scatter3d": [
           {
            "line": {
             "colorbar": {
              "outlinewidth": 0,
              "ticks": ""
             }
            },
            "marker": {
             "colorbar": {
              "outlinewidth": 0,
              "ticks": ""
             }
            },
            "type": "scatter3d"
           }
          ],
          "scattercarpet": [
           {
            "marker": {
             "colorbar": {
              "outlinewidth": 0,
              "ticks": ""
             }
            },
            "type": "scattercarpet"
           }
          ],
          "scattergeo": [
           {
            "marker": {
             "colorbar": {
              "outlinewidth": 0,
              "ticks": ""
             }
            },
            "type": "scattergeo"
           }
          ],
          "scattergl": [
           {
            "marker": {
             "colorbar": {
              "outlinewidth": 0,
              "ticks": ""
             }
            },
            "type": "scattergl"
           }
          ],
          "scattermapbox": [
           {
            "marker": {
             "colorbar": {
              "outlinewidth": 0,
              "ticks": ""
             }
            },
            "type": "scattermapbox"
           }
          ],
          "scatterpolar": [
           {
            "marker": {
             "colorbar": {
              "outlinewidth": 0,
              "ticks": ""
             }
            },
            "type": "scatterpolar"
           }
          ],
          "scatterpolargl": [
           {
            "marker": {
             "colorbar": {
              "outlinewidth": 0,
              "ticks": ""
             }
            },
            "type": "scatterpolargl"
           }
          ],
          "scatterternary": [
           {
            "marker": {
             "colorbar": {
              "outlinewidth": 0,
              "ticks": ""
             }
            },
            "type": "scatterternary"
           }
          ],
          "surface": [
           {
            "colorbar": {
             "outlinewidth": 0,
             "ticks": ""
            },
            "colorscale": [
             [
              0,
              "#0d0887"
             ],
             [
              0.1111111111111111,
              "#46039f"
             ],
             [
              0.2222222222222222,
              "#7201a8"
             ],
             [
              0.3333333333333333,
              "#9c179e"
             ],
             [
              0.4444444444444444,
              "#bd3786"
             ],
             [
              0.5555555555555556,
              "#d8576b"
             ],
             [
              0.6666666666666666,
              "#ed7953"
             ],
             [
              0.7777777777777778,
              "#fb9f3a"
             ],
             [
              0.8888888888888888,
              "#fdca26"
             ],
             [
              1,
              "#f0f921"
             ]
            ],
            "type": "surface"
           }
          ],
          "table": [
           {
            "cells": {
             "fill": {
              "color": "#EBF0F8"
             },
             "line": {
              "color": "white"
             }
            },
            "header": {
             "fill": {
              "color": "#C8D4E3"
             },
             "line": {
              "color": "white"
             }
            },
            "type": "table"
           }
          ]
         },
         "layout": {
          "annotationdefaults": {
           "arrowcolor": "#2a3f5f",
           "arrowhead": 0,
           "arrowwidth": 1
          },
          "autotypenumbers": "strict",
          "coloraxis": {
           "colorbar": {
            "outlinewidth": 0,
            "ticks": ""
           }
          },
          "colorscale": {
           "diverging": [
            [
             0,
             "#8e0152"
            ],
            [
             0.1,
             "#c51b7d"
            ],
            [
             0.2,
             "#de77ae"
            ],
            [
             0.3,
             "#f1b6da"
            ],
            [
             0.4,
             "#fde0ef"
            ],
            [
             0.5,
             "#f7f7f7"
            ],
            [
             0.6,
             "#e6f5d0"
            ],
            [
             0.7,
             "#b8e186"
            ],
            [
             0.8,
             "#7fbc41"
            ],
            [
             0.9,
             "#4d9221"
            ],
            [
             1,
             "#276419"
            ]
           ],
           "sequential": [
            [
             0,
             "#0d0887"
            ],
            [
             0.1111111111111111,
             "#46039f"
            ],
            [
             0.2222222222222222,
             "#7201a8"
            ],
            [
             0.3333333333333333,
             "#9c179e"
            ],
            [
             0.4444444444444444,
             "#bd3786"
            ],
            [
             0.5555555555555556,
             "#d8576b"
            ],
            [
             0.6666666666666666,
             "#ed7953"
            ],
            [
             0.7777777777777778,
             "#fb9f3a"
            ],
            [
             0.8888888888888888,
             "#fdca26"
            ],
            [
             1,
             "#f0f921"
            ]
           ],
           "sequentialminus": [
            [
             0,
             "#0d0887"
            ],
            [
             0.1111111111111111,
             "#46039f"
            ],
            [
             0.2222222222222222,
             "#7201a8"
            ],
            [
             0.3333333333333333,
             "#9c179e"
            ],
            [
             0.4444444444444444,
             "#bd3786"
            ],
            [
             0.5555555555555556,
             "#d8576b"
            ],
            [
             0.6666666666666666,
             "#ed7953"
            ],
            [
             0.7777777777777778,
             "#fb9f3a"
            ],
            [
             0.8888888888888888,
             "#fdca26"
            ],
            [
             1,
             "#f0f921"
            ]
           ]
          },
          "colorway": [
           "#636efa",
           "#EF553B",
           "#00cc96",
           "#ab63fa",
           "#FFA15A",
           "#19d3f3",
           "#FF6692",
           "#B6E880",
           "#FF97FF",
           "#FECB52"
          ],
          "font": {
           "color": "#2a3f5f"
          },
          "geo": {
           "bgcolor": "white",
           "lakecolor": "white",
           "landcolor": "#E5ECF6",
           "showlakes": true,
           "showland": true,
           "subunitcolor": "white"
          },
          "hoverlabel": {
           "align": "left"
          },
          "hovermode": "closest",
          "mapbox": {
           "style": "light"
          },
          "paper_bgcolor": "white",
          "plot_bgcolor": "#E5ECF6",
          "polar": {
           "angularaxis": {
            "gridcolor": "white",
            "linecolor": "white",
            "ticks": ""
           },
           "bgcolor": "#E5ECF6",
           "radialaxis": {
            "gridcolor": "white",
            "linecolor": "white",
            "ticks": ""
           }
          },
          "scene": {
           "xaxis": {
            "backgroundcolor": "#E5ECF6",
            "gridcolor": "white",
            "gridwidth": 2,
            "linecolor": "white",
            "showbackground": true,
            "ticks": "",
            "zerolinecolor": "white"
           },
           "yaxis": {
            "backgroundcolor": "#E5ECF6",
            "gridcolor": "white",
            "gridwidth": 2,
            "linecolor": "white",
            "showbackground": true,
            "ticks": "",
            "zerolinecolor": "white"
           },
           "zaxis": {
            "backgroundcolor": "#E5ECF6",
            "gridcolor": "white",
            "gridwidth": 2,
            "linecolor": "white",
            "showbackground": true,
            "ticks": "",
            "zerolinecolor": "white"
           }
          },
          "shapedefaults": {
           "line": {
            "color": "#2a3f5f"
           }
          },
          "ternary": {
           "aaxis": {
            "gridcolor": "white",
            "linecolor": "white",
            "ticks": ""
           },
           "baxis": {
            "gridcolor": "white",
            "linecolor": "white",
            "ticks": ""
           },
           "bgcolor": "#E5ECF6",
           "caxis": {
            "gridcolor": "white",
            "linecolor": "white",
            "ticks": ""
           }
          },
          "title": {
           "x": 0.05
          },
          "xaxis": {
           "automargin": true,
           "gridcolor": "white",
           "linecolor": "white",
           "ticks": "",
           "title": {
            "standoff": 15
           },
           "zerolinecolor": "white",
           "zerolinewidth": 2
          },
          "yaxis": {
           "automargin": true,
           "gridcolor": "white",
           "linecolor": "white",
           "ticks": "",
           "title": {
            "standoff": 15
           },
           "zerolinecolor": "white",
           "zerolinewidth": 2
          }
         }
        },
        "title": {
         "text": "Hamlet's Network"
        },
        "xaxis": {
         "autorange": true,
         "range": [
          -0.7035407379663409,
          1.103349987767502
         ],
         "showgrid": false,
         "type": "linear",
         "zeroline": false
        },
        "yaxis": {
         "autorange": true,
         "range": [
          -1.0819216692295197,
          1.0794380252236366
         ],
         "showgrid": false,
         "type": "linear",
         "zeroline": false
        }
       }
      },
      "image/png": "[encoded data removed]",
      "text/html": [
       "<div>                            <div id=\"13c8b1b8-1841-449a-9519-f138ebc1147b\" class=\"plotly-graph-div\" style=\"height:525px; width:100%;\"></div>            <script type=\"text/javascript\">                require([\"plotly\"], function(Plotly) {                    window.PLOTLYENV=window.PLOTLYENV || {};                                    if (document.getElementById(\"13c8b1b8-1841-449a-9519-f138ebc1147b\")) {                    Plotly.newPlot(                        \"13c8b1b8-1841-449a-9519-f138ebc1147b\",                        [{\"hoverinfo\":\"none\",\"line\":{\"color\":\"green\",\"width\":1},\"mode\":\"lines\",\"x\":[-0.04707593642343473,-0.09577069491395049,null],\"y\":[-0.03815383741604978,0.03736336848013901,null],\"type\":\"scatter\",\"hovertemplate\":\"%{customdata}\"},{\"hoverinfo\":\"none\",\"line\":{\"color\":\"orange\",\"width\":1},\"mode\":\"lines\",\"x\":[-0.04707593642343473,-0.1459176897782076,null],\"y\":[-0.03815383741604978,-0.07380977420694619,null],\"type\":\"scatter\",\"hovertemplate\":\"%{customdata}\"},{\"hoverinfo\":\"none\",\"line\":{\"color\":\"green\",\"width\":1},\"mode\":\"lines\",\"x\":[-0.04707593642343473,-0.13965823845311745,null],\"y\":[-0.03815383741604978,0.04574277062371698,null],\"type\":\"scatter\",\"hovertemplate\":\"%{customdata}\"},{\"hoverinfo\":\"none\",\"line\":{\"color\":\"green\",\"width\":1},\"mode\":\"lines\",\"x\":[-0.04707593642343473,0.05140514879262931,null],\"y\":[-0.03815383741604978,0.09211309856646721,null],\"type\":\"scatter\",\"hovertemplate\":\"%{customdata}\"},{\"hoverinfo\":\"none\",\"line\":{\"color\":\"green\",\"width\":1},\"mode\":\"lines\",\"x\":[-0.04707593642343473,-0.1605996711646021,null],\"y\":[-0.03815383741604978,-0.1742222946937921,null],\"type\":\"scatter\",\"hovertemplate\":\"%{customdata}\"},{\"hoverinfo\":\"none\",\"line\":{\"color\":\"green\",\"width\":1},\"mode\":\"lines\",\"x\":[-0.04707593642343473,-0.03812129954848443,null],\"y\":[-0.03815383741604978,0.07203784121895043,null],\"type\":\"scatter\",\"hovertemplate\":\"%{customdata}\"},{\"hoverinfo\":\"none\",\"line\":{\"color\":\"green\",\"width\":1},\"mode\":\"lines\",\"x\":[-0.04707593642343473,0.11551921125831867,null],\"y\":[-0.03815383741604978,-0.10300196446981236,null],\"type\":\"scatter\",\"hovertemplate\":\"%{customdata}\"},{\"hoverinfo\":\"none\",\"line\":{\"color\":\"green\",\"width\":1},\"mode\":\"lines\",\"x\":[-0.04707593642343473,0.12962492728406547,null],\"y\":[-0.03815383741604978,-0.03466931550559441,null],\"type\":\"scatter\",\"hovertemplate\":\"%{customdata}\"},{\"hoverinfo\":\"none\",\"line\":{\"color\":\"yellow\",\"width\":1},\"mode\":\"lines\",\"x\":[-0.04707593642343473,0.05034004375016022,null],\"y\":[-0.03815383741604978,-0.19044384664065184,null],\"type\":\"scatter\",\"hovertemplate\":\"%{customdata}\"},{\"hoverinfo\":\"none\",\"line\":{\"color\":\"green\",\"width\":1},\"mode\":\"lines\",\"x\":[-0.04707593642343473,-0.04285317615708925,null],\"y\":[-0.03815383741604978,0.11493472282188395,null],\"type\":\"scatter\",\"hovertemplate\":\"%{customdata}\"},{\"hoverinfo\":\"none\",\"line\":{\"color\":\"green\",\"width\":1},\"mode\":\"lines\",\"x\":[-0.04707593642343473,-0.13369585546349289,null],\"y\":[-0.03815383741604978,0.10141364142193686,null],\"type\":\"scatter\",\"hovertemplate\":\"%{customdata}\"},{\"hoverinfo\":\"none\",\"line\":{\"color\":\"green\",\"width\":1},\"mode\":\"lines\",\"x\":[-0.04707593642343473,-0.09435202339429453,null],\"y\":[-0.03815383741604978,0.12356575594051238,null],\"type\":\"scatter\",\"hovertemplate\":\"%{customdata}\"},{\"hoverinfo\":\"none\",\"line\":{\"color\":\"green\",\"width\":1},\"mode\":\"lines\",\"x\":[-0.04707593642343473,-0.18560281896140818,null],\"y\":[-0.03815383741604978,-0.12987156530889685,null],\"type\":\"scatter\",\"hovertemplate\":\"%{customdata}\"},{\"hoverinfo\":\"none\",\"line\":{\"color\":\"green\",\"width\":1},\"mode\":\"lines\",\"x\":[-0.04707593642343473,-0.10533948094891536,null],\"y\":[-0.03815383741604978,-0.18763778767342548,null],\"type\":\"scatter\",\"hovertemplate\":\"%{customdata}\"},{\"hoverinfo\":\"none\",\"line\":{\"color\":\"green\",\"width\":1},\"mode\":\"lines\",\"x\":[-0.04707593642343473,-0.1050348453618567,null],\"y\":[-0.03815383741604978,-0.1385279941380019,null],\"type\":\"scatter\",\"hovertemplate\":\"%{customdata}\"},{\"hoverinfo\":\"none\",\"line\":{\"color\":\"orange\",\"width\":1},\"mode\":\"lines\",\"x\":[-0.09577069491395049,-0.1459176897782076,null],\"y\":[0.03736336848013901,-0.07380977420694619,null],\"type\":\"scatter\",\"hovertemplate\":\"%{customdata}\"},{\"hoverinfo\":\"none\",\"line\":{\"color\":\"green\",\"width\":1},\"mode\":\"lines\",\"x\":[-0.09577069491395049,-0.13965823845311745,null],\"y\":[0.03736336848013901,0.04574277062371698,null],\"type\":\"scatter\",\"hovertemplate\":\"%{customdata}\"},{\"hoverinfo\":\"none\",\"line\":{\"color\":\"green\",\"width\":1},\"mode\":\"lines\",\"x\":[-0.09577069491395049,-0.03812129954848443,null],\"y\":[0.03736336848013901,0.07203784121895043,null],\"type\":\"scatter\",\"hovertemplate\":\"%{customdata}\"},{\"hoverinfo\":\"none\",\"line\":{\"color\":\"green\",\"width\":1},\"mode\":\"lines\",\"x\":[-0.09577069491395049,-0.04285317615708925,null],\"y\":[0.03736336848013901,0.11493472282188395,null],\"type\":\"scatter\",\"hovertemplate\":\"%{customdata}\"},{\"hoverinfo\":\"none\",\"line\":{\"color\":\"green\",\"width\":1},\"mode\":\"lines\",\"x\":[-0.09577069491395049,-0.13369585546349289,null],\"y\":[0.03736336848013901,0.10141364142193686,null],\"type\":\"scatter\",\"hovertemplate\":\"%{customdata}\"},{\"hoverinfo\":\"none\",\"line\":{\"color\":\"green\",\"width\":1},\"mode\":\"lines\",\"x\":[-0.09577069491395049,-0.09435202339429453,null],\"y\":[0.03736336848013901,0.12356575594051238,null],\"type\":\"scatter\",\"hovertemplate\":\"%{customdata}\"},{\"hoverinfo\":\"none\",\"line\":{\"color\":\"orange\",\"width\":1},\"mode\":\"lines\",\"x\":[-0.1459176897782076,-0.13965823845311745,null],\"y\":[-0.07380977420694619,0.04574277062371698,null],\"type\":\"scatter\",\"hovertemplate\":\"%{customdata}\"},{\"hoverinfo\":\"none\",\"line\":{\"color\":\"green\",\"width\":1},\"mode\":\"lines\",\"x\":[-0.1459176897782076,-0.1605996711646021,null],\"y\":[-0.07380977420694619,-0.1742222946937921,null],\"type\":\"scatter\",\"hovertemplate\":\"%{customdata}\"},{\"hoverinfo\":\"none\",\"line\":{\"color\":\"green\",\"width\":1},\"mode\":\"lines\",\"x\":[-0.1459176897782076,-0.18560281896140818,null],\"y\":[-0.07380977420694619,-0.12987156530889685,null],\"type\":\"scatter\",\"hovertemplate\":\"%{customdata}\"},{\"hoverinfo\":\"none\",\"line\":{\"color\":\"green\",\"width\":1},\"mode\":\"lines\",\"x\":[-0.1459176897782076,-0.10533948094891536,null],\"y\":[-0.07380977420694619,-0.18763778767342548,null],\"type\":\"scatter\",\"hovertemplate\":\"%{customdata}\"},{\"hoverinfo\":\"none\",\"line\":{\"color\":\"green\",\"width\":1},\"mode\":\"lines\",\"x\":[-0.1459176897782076,-0.1050348453618567,null],\"y\":[-0.07380977420694619,-0.1385279941380019,null],\"type\":\"scatter\",\"hovertemplate\":\"%{customdata}\"},{\"hoverinfo\":\"none\",\"line\":{\"color\":\"green\",\"width\":1},\"mode\":\"lines\",\"x\":[-0.13965823845311745,-0.03812129954848443,null],\"y\":[0.04574277062371698,0.07203784121895043,null],\"type\":\"scatter\",\"hovertemplate\":\"%{customdata}\"},{\"hoverinfo\":\"none\",\"line\":{\"color\":\"green\",\"width\":1},\"mode\":\"lines\",\"x\":[-0.13965823845311745,-0.04285317615708925,null],\"y\":[0.04574277062371698,0.11493472282188395,null],\"type\":\"scatter\",\"hovertemplate\":\"%{customdata}\"},{\"hoverinfo\":\"none\",\"line\":{\"color\":\"green\",\"width\":1},\"mode\":\"lines\",\"x\":[-0.13965823845311745,-0.13369585546349289,null],\"y\":[0.04574277062371698,0.10141364142193686,null],\"type\":\"scatter\",\"hovertemplate\":\"%{customdata}\"},{\"hoverinfo\":\"none\",\"line\":{\"color\":\"green\",\"width\":1},\"mode\":\"lines\",\"x\":[-0.13965823845311745,-0.09435202339429453,null],\"y\":[0.04574277062371698,0.12356575594051238,null],\"type\":\"scatter\",\"hovertemplate\":\"%{customdata}\"},{\"hoverinfo\":\"none\",\"line\":{\"color\":\"green\",\"width\":1},\"mode\":\"lines\",\"x\":[-0.03812129954848443,-0.04285317615708925,null],\"y\":[0.07203784121895043,0.11493472282188395,null],\"type\":\"scatter\",\"hovertemplate\":\"%{customdata}\"},{\"hoverinfo\":\"none\",\"line\":{\"color\":\"orange\",\"width\":1},\"mode\":\"lines\",\"x\":[-0.03812129954848443,0.05140514879262931,null],\"y\":[0.07203784121895043,0.09211309856646721,null],\"type\":\"scatter\",\"hovertemplate\":\"%{customdata}\"},{\"hoverinfo\":\"none\",\"line\":{\"color\":\"green\",\"width\":1},\"mode\":\"lines\",\"x\":[-0.03812129954848443,-0.13369585546349289,null],\"y\":[0.07203784121895043,0.10141364142193686,null],\"type\":\"scatter\",\"hovertemplate\":\"%{customdata}\"},{\"hoverinfo\":\"none\",\"line\":{\"color\":\"green\",\"width\":1},\"mode\":\"lines\",\"x\":[-0.03812129954848443,-0.09435202339429453,null],\"y\":[0.07203784121895043,0.12356575594051238,null],\"type\":\"scatter\",\"hovertemplate\":\"%{customdata}\"},{\"hoverinfo\":\"none\",\"line\":{\"color\":\"yellow\",\"width\":1},\"mode\":\"lines\",\"x\":[-0.04285317615708925,0.05140514879262931,null],\"y\":[0.11493472282188395,0.09211309856646721,null],\"type\":\"scatter\",\"hovertemplate\":\"%{customdata}\"},{\"hoverinfo\":\"none\",\"line\":{\"color\":\"green\",\"width\":1},\"mode\":\"lines\",\"x\":[-0.04285317615708925,-0.13369585546349289,null],\"y\":[0.11493472282188395,0.10141364142193686,null],\"type\":\"scatter\",\"hovertemplate\":\"%{customdata}\"},{\"hoverinfo\":\"none\",\"line\":{\"color\":\"green\",\"width\":1},\"mode\":\"lines\",\"x\":[-0.04285317615708925,-0.09435202339429453,null],\"y\":[0.11493472282188395,0.12356575594051238,null],\"type\":\"scatter\",\"hovertemplate\":\"%{customdata}\"},{\"hoverinfo\":\"none\",\"line\":{\"color\":\"green\",\"width\":1},\"mode\":\"lines\",\"x\":[-0.1605996711646021,-0.18560281896140818,null],\"y\":[-0.1742222946937921,-0.12987156530889685,null],\"type\":\"scatter\",\"hovertemplate\":\"%{customdata}\"},{\"hoverinfo\":\"none\",\"line\":{\"color\":\"green\",\"width\":1},\"mode\":\"lines\",\"x\":[-0.1605996711646021,-0.10533948094891536,null],\"y\":[-0.1742222946937921,-0.18763778767342548,null],\"type\":\"scatter\",\"hovertemplate\":\"%{customdata}\"},{\"hoverinfo\":\"none\",\"line\":{\"color\":\"green\",\"width\":1},\"mode\":\"lines\",\"x\":[-0.1605996711646021,-0.1050348453618567,null],\"y\":[-0.1742222946937921,-0.1385279941380019,null],\"type\":\"scatter\",\"hovertemplate\":\"%{customdata}\"},{\"hoverinfo\":\"none\",\"line\":{\"color\":\"green\",\"width\":1},\"mode\":\"lines\",\"x\":[0.11551921125831867,0.12962492728406547,null],\"y\":[-0.10300196446981236,-0.03466931550559441,null],\"type\":\"scatter\",\"hovertemplate\":\"%{customdata}\"},{\"hoverinfo\":\"none\",\"line\":{\"color\":\"green\",\"width\":1},\"mode\":\"lines\",\"x\":[-0.13369585546349289,-0.09435202339429453,null],\"y\":[0.10141364142193686,0.12356575594051238,null],\"type\":\"scatter\",\"hovertemplate\":\"%{customdata}\"},{\"hoverinfo\":\"none\",\"line\":{\"color\":\"green\",\"width\":1},\"mode\":\"lines\",\"x\":[-0.18560281896140818,-0.10533948094891536,null],\"y\":[-0.12987156530889685,-0.18763778767342548,null],\"type\":\"scatter\",\"hovertemplate\":\"%{customdata}\"},{\"hoverinfo\":\"none\",\"line\":{\"color\":\"green\",\"width\":1},\"mode\":\"lines\",\"x\":[-0.18560281896140818,-0.1050348453618567,null],\"y\":[-0.12987156530889685,-0.1385279941380019,null],\"type\":\"scatter\",\"hovertemplate\":\"%{customdata}\"},{\"hoverinfo\":\"none\",\"line\":{\"color\":\"green\",\"width\":1},\"mode\":\"lines\",\"x\":[-0.10533948094891536,-0.1050348453618567,null],\"y\":[-0.18763778767342548,-0.1385279941380019,null],\"type\":\"scatter\",\"hovertemplate\":\"%{customdata}\"},{\"customdata\":[[\"Character: Hamlet\\u003cbr\\u003eGender: Male\\u003cbr\\u003ePlace: \\u003cbr\\u003eRole: \"],[\"Character: King Claudius\\u003cbr\\u003eGender: Male\\u003cbr\\u003ePlace: \\u003cbr\\u003eRole: \"],[\"Character: King Hamlet\\u003cbr\\u003eGender: Male\\u003cbr\\u003ePlace: \\u003cbr\\u003eRole: \"],[\"Character: Queen Gertrude\\u003cbr\\u003eGender: Female\\u003cbr\\u003ePlace: \\u003cbr\\u003eRole: \"],[\"Character: Polonius\\u003cbr\\u003eGender: Male\\u003cbr\\u003ePlace: \\u003cbr\\u003eRole: \"],[\"Character: Laertes\\u003cbr\\u003eGender: Male\\u003cbr\\u003ePlace: \\u003cbr\\u003eRole: \"],[\"Character: Ophelia\\u003cbr\\u003eGender: Female\\u003cbr\\u003ePlace: \\u003cbr\\u003eRole: \"],[\"Character: Horatio\\u003cbr\\u003eGender: Male\\u003cbr\\u003ePlace: \\u003cbr\\u003eRole: \"],[\"Character: Rosencrantz\\u003cbr\\u003eGender: Male\\u003cbr\\u003ePlace: \\u003cbr\\u003eRole: \"],[\"Character: Guildenstern\\u003cbr\\u003eGender: Male\\u003cbr\\u003ePlace: \\u003cbr\\u003eRole: \"],[\"Character: Fortinbras\\u003cbr\\u003eGender: Male\\u003cbr\\u003ePlace: \\u003cbr\\u003eRole: \"],[\"Character: Voltimand\\u003cbr\\u003eGender: Male\\u003cbr\\u003ePlace: \\u003cbr\\u003eRole: \"],[\"Character: Cornelius\\u003cbr\\u003eGender: Male\\u003cbr\\u003ePlace: \\u003cbr\\u003eRole: \"],[\"Character: Marcellus\\u003cbr\\u003eGender: Male\\u003cbr\\u003ePlace: \\u003cbr\\u003eRole: \"],[\"Character: Bernardo\\u003cbr\\u003eGender: Male\\u003cbr\\u003ePlace: \\u003cbr\\u003eRole: \"],[\"Character: Francisco\\u003cbr\\u003eGender: Male\\u003cbr\\u003ePlace: \\u003cbr\\u003eRole: \"],[\"Character: Osric\\u003cbr\\u003eGender: Male\\u003cbr\\u003ePlace: \\u003cbr\\u003eRole: \"],[\"Character: Reynaldo\\u003cbr\\u003eGender: Male\\u003cbr\\u003ePlace: \\u003cbr\\u003eRole: \"],[\"Character: Actors\\u003cbr\\u003eGender: Male\\u003cbr\\u003ePlace: \\u003cbr\\u003eRole: \"]],\"hoverinfo\":\"text\",\"marker\":{\"color\":[\"lightblue\",\"lightblue\",\"lightblue\",\"red\",\"lightblue\",\"lightblue\",\"red\",\"lightblue\",\"lightblue\",\"lightblue\",\"lightblue\",\"lightblue\",\"lightblue\",\"lightblue\",\"lightblue\",\"lightblue\",\"lightblue\",\"lightblue\",\"lightblue\"],\"showscale\":false},\"mode\":\"markers+text\",\"text\":[\"Hamlet\",\"King Claudius\",\"King Hamlet\",\"Queen Gertrude\",\"Polonius\",\"Laertes\",\"Ophelia\",\"Horatio\",\"Rosencrantz\",\"Guildenstern\",\"Fortinbras\",\"Voltimand\",\"Cornelius\",\"Marcellus\",\"Bernardo\",\"Francisco\",\"Osric\",\"Reynaldo\",\"Actors\"],\"textfont\":{\"size\":10},\"textposition\":\"bottom center\",\"x\":[-0.04707593642343473,-0.09577069491395049,-0.1459176897782076,-0.13965823845311745,-0.03812129954848443,-0.04285317615708925,0.05140514879262931,-0.1605996711646021,0.11551921125831867,0.12962492728406547,0.5473231496825186,-0.13369585546349289,-0.09435202339429453,-0.18560281896140818,-0.10533948094891536,-0.1050348453618567,-0.6001907501988389,1.0,0.05034004375016022],\"y\":[-0.03815383741604978,0.03736336848013901,-0.07380977420694619,0.04574277062371698,0.07203784121895043,0.11493472282188395,0.09211309856646721,-0.1742222946937921,-0.10300196446981236,-0.03466931550559441,-0.9288253575390879,0.10141364142193686,0.12356575594051238,-0.12987156530889685,-0.18763778767342548,-0.1385279941380019,0.9263417135332048,0.4856508249854476,-0.19044384664065184],\"type\":\"scatter\",\"hovertemplate\":\"%{customdata}\"}],                        {\"template\":{\"data\":{\"histogram2dcontour\":[{\"type\":\"histogram2dcontour\",\"colorbar\":{\"outlinewidth\":0,\"ticks\":\"\"},\"colorscale\":[[0.0,\"#0d0887\"],[0.1111111111111111,\"#46039f\"],[0.2222222222222222,\"#7201a8\"],[0.3333333333333333,\"#9c179e\"],[0.4444444444444444,\"#bd3786\"],[0.5555555555555556,\"#d8576b\"],[0.6666666666666666,\"#ed7953\"],[0.7777777777777778,\"#fb9f3a\"],[0.8888888888888888,\"#fdca26\"],[1.0,\"#f0f921\"]]}],\"choropleth\":[{\"type\":\"choropleth\",\"colorbar\":{\"outlinewidth\":0,\"ticks\":\"\"}}],\"histogram2d\":[{\"type\":\"histogram2d\",\"colorbar\":{\"outlinewidth\":0,\"ticks\":\"\"},\"colorscale\":[[0.0,\"#0d0887\"],[0.1111111111111111,\"#46039f\"],[0.2222222222222222,\"#7201a8\"],[0.3333333333333333,\"#9c179e\"],[0.4444444444444444,\"#bd3786\"],[0.5555555555555556,\"#d8576b\"],[0.6666666666666666,\"#ed7953\"],[0.7777777777777778,\"#fb9f3a\"],[0.8888888888888888,\"#fdca26\"],[1.0,\"#f0f921\"]]}],\"heatmap\":[{\"type\":\"heatmap\",\"colorbar\":{\"outlinewidth\":0,\"ticks\":\"\"},\"colorscale\":[[0.0,\"#0d0887\"],[0.1111111111111111,\"#46039f\"],[0.2222222222222222,\"#7201a8\"],[0.3333333333333333,\"#9c179e\"],[0.4444444444444444,\"#bd3786\"],[0.5555555555555556,\"#d8576b\"],[0.6666666666666666,\"#ed7953\"],[0.7777777777777778,\"#fb9f3a\"],[0.8888888888888888,\"#fdca26\"],[1.0,\"#f0f921\"]]}],\"heatmapgl\":[{\"type\":\"heatmapgl\",\"colorbar\":{\"outlinewidth\":0,\"ticks\":\"\"},\"colorscale\":[[0.0,\"#0d0887\"],[0.1111111111111111,\"#46039f\"],[0.2222222222222222,\"#7201a8\"],[0.3333333333333333,\"#9c179e\"],[0.4444444444444444,\"#bd3786\"],[0.5555555555555556,\"#d8576b\"],[0.6666666666666666,\"#ed7953\"],[0.7777777777777778,\"#fb9f3a\"],[0.8888888888888888,\"#fdca26\"],[1.0,\"#f0f921\"]]}],\"contourcarpet\":[{\"type\":\"contourcarpet\",\"colorbar\":{\"outlinewidth\":0,\"ticks\":\"\"}}],\"contour\":[{\"type\":\"contour\",\"colorbar\":{\"outlinewidth\":0,\"ticks\":\"\"},\"colorscale\":[[0.0,\"#0d0887\"],[0.1111111111111111,\"#46039f\"],[0.2222222222222222,\"#7201a8\"],[0.3333333333333333,\"#9c179e\"],[0.4444444444444444,\"#bd3786\"],[0.5555555555555556,\"#d8576b\"],[0.6666666666666666,\"#ed7953\"],[0.7777777777777778,\"#fb9f3a\"],[0.8888888888888888,\"#fdca26\"],[1.0,\"#f0f921\"]]}],\"surface\":[{\"type\":\"surface\",\"colorbar\":{\"outlinewidth\":0,\"ticks\":\"\"},\"colorscale\":[[0.0,\"#0d0887\"],[0.1111111111111111,\"#46039f\"],[0.2222222222222222,\"#7201a8\"],[0.3333333333333333,\"#9c179e\"],[0.4444444444444444,\"#bd3786\"],[0.5555555555555556,\"#d8576b\"],[0.6666666666666666,\"#ed7953\"],[0.7777777777777778,\"#fb9f3a\"],[0.8888888888888888,\"#fdca26\"],[1.0,\"#f0f921\"]]}],\"mesh3d\":[{\"type\":\"mesh3d\",\"colorbar\":{\"outlinewidth\":0,\"ticks\":\"\"}}],\"scatter\":[{\"fillpattern\":{\"fillmode\":\"overlay\",\"size\":10,\"solidity\":0.2},\"type\":\"scatter\"}],\"parcoords\":[{\"type\":\"parcoords\",\"line\":{\"colorbar\":{\"outlinewidth\":0,\"ticks\":\"\"}}}],\"scatterpolargl\":[{\"type\":\"scatterpolargl\",\"marker\":{\"colorbar\":{\"outlinewidth\":0,\"ticks\":\"\"}}}],\"bar\":[{\"error_x\":{\"color\":\"#2a3f5f\"},\"error_y\":{\"color\":\"#2a3f5f\"},\"marker\":{\"line\":{\"color\":\"#E5ECF6\",\"width\":0.5},\"pattern\":{\"fillmode\":\"overlay\",\"size\":10,\"solidity\":0.2}},\"type\":\"bar\"}],\"scattergeo\":[{\"type\":\"scattergeo\",\"marker\":{\"colorbar\":{\"outlinewidth\":0,\"ticks\":\"\"}}}],\"scatterpolar\":[{\"type\":\"scatterpolar\",\"marker\":{\"colorbar\":{\"outlinewidth\":0,\"ticks\":\"\"}}}],\"histogram\":[{\"marker\":{\"pattern\":{\"fillmode\":\"overlay\",\"size\":10,\"solidity\":0.2}},\"type\":\"histogram\"}],\"scattergl\":[{\"type\":\"scattergl\",\"marker\":{\"colorbar\":{\"outlinewidth\":0,\"ticks\":\"\"}}}],\"scatter3d\":[{\"type\":\"scatter3d\",\"line\":{\"colorbar\":{\"outlinewidth\":0,\"ticks\":\"\"}},\"marker\":{\"colorbar\":{\"outlinewidth\":0,\"ticks\":\"\"}}}],\"scattermapbox\":[{\"type\":\"scattermapbox\",\"marker\":{\"colorbar\":{\"outlinewidth\":0,\"ticks\":\"\"}}}],\"scatterternary\":[{\"type\":\"scatterternary\",\"marker\":{\"colorbar\":{\"outlinewidth\":0,\"ticks\":\"\"}}}],\"scattercarpet\":[{\"type\":\"scattercarpet\",\"marker\":{\"colorbar\":{\"outlinewidth\":0,\"ticks\":\"\"}}}],\"carpet\":[{\"aaxis\":{\"endlinecolor\":\"#2a3f5f\",\"gridcolor\":\"white\",\"linecolor\":\"white\",\"minorgridcolor\":\"white\",\"startlinecolor\":\"#2a3f5f\"},\"baxis\":{\"endlinecolor\":\"#2a3f5f\",\"gridcolor\":\"white\",\"linecolor\":\"white\",\"minorgridcolor\":\"white\",\"startlinecolor\":\"#2a3f5f\"},\"type\":\"carpet\"}],\"table\":[{\"cells\":{\"fill\":{\"color\":\"#EBF0F8\"},\"line\":{\"color\":\"white\"}},\"header\":{\"fill\":{\"color\":\"#C8D4E3\"},\"line\":{\"color\":\"white\"}},\"type\":\"table\"}],\"barpolar\":[{\"marker\":{\"line\":{\"color\":\"#E5ECF6\",\"width\":0.5},\"pattern\":{\"fillmode\":\"overlay\",\"size\":10,\"solidity\":0.2}},\"type\":\"barpolar\"}],\"pie\":[{\"automargin\":true,\"type\":\"pie\"}]},\"layout\":{\"autotypenumbers\":\"strict\",\"colorway\":[\"#636efa\",\"#EF553B\",\"#00cc96\",\"#ab63fa\",\"#FFA15A\",\"#19d3f3\",\"#FF6692\",\"#B6E880\",\"#FF97FF\",\"#FECB52\"],\"font\":{\"color\":\"#2a3f5f\"},\"hovermode\":\"closest\",\"hoverlabel\":{\"align\":\"left\"},\"paper_bgcolor\":\"white\",\"plot_bgcolor\":\"#E5ECF6\",\"polar\":{\"bgcolor\":\"#E5ECF6\",\"angularaxis\":{\"gridcolor\":\"white\",\"linecolor\":\"white\",\"ticks\":\"\"},\"radialaxis\":{\"gridcolor\":\"white\",\"linecolor\":\"white\",\"ticks\":\"\"}},\"ternary\":{\"bgcolor\":\"#E5ECF6\",\"aaxis\":{\"gridcolor\":\"white\",\"linecolor\":\"white\",\"ticks\":\"\"},\"baxis\":{\"gridcolor\":\"white\",\"linecolor\":\"white\",\"ticks\":\"\"},\"caxis\":{\"gridcolor\":\"white\",\"linecolor\":\"white\",\"ticks\":\"\"}},\"coloraxis\":{\"colorbar\":{\"outlinewidth\":0,\"ticks\":\"\"}},\"colorscale\":{\"sequential\":[[0.0,\"#0d0887\"],[0.1111111111111111,\"#46039f\"],[0.2222222222222222,\"#7201a8\"],[0.3333333333333333,\"#9c179e\"],[0.4444444444444444,\"#bd3786\"],[0.5555555555555556,\"#d8576b\"],[0.6666666666666666,\"#ed7953\"],[0.7777777777777778,\"#fb9f3a\"],[0.8888888888888888,\"#fdca26\"],[1.0,\"#f0f921\"]],\"sequentialminus\":[[0.0,\"#0d0887\"],[0.1111111111111111,\"#46039f\"],[0.2222222222222222,\"#7201a8\"],[0.3333333333333333,\"#9c179e\"],[0.4444444444444444,\"#bd3786\"],[0.5555555555555556,\"#d8576b\"],[0.6666666666666666,\"#ed7953\"],[0.7777777777777778,\"#fb9f3a\"],[0.8888888888888888,\"#fdca26\"],[1.0,\"#f0f921\"]],\"diverging\":[[0,\"#8e0152\"],[0.1,\"#c51b7d\"],[0.2,\"#de77ae\"],[0.3,\"#f1b6da\"],[0.4,\"#fde0ef\"],[0.5,\"#f7f7f7\"],[0.6,\"#e6f5d0\"],[0.7,\"#b8e186\"],[0.8,\"#7fbc41\"],[0.9,\"#4d9221\"],[1,\"#276419\"]]},\"xaxis\":{\"gridcolor\":\"white\",\"linecolor\":\"white\",\"ticks\":\"\",\"title\":{\"standoff\":15},\"zerolinecolor\":\"white\",\"automargin\":true,\"zerolinewidth\":2},\"yaxis\":{\"gridcolor\":\"white\",\"linecolor\":\"white\",\"ticks\":\"\",\"title\":{\"standoff\":15},\"zerolinecolor\":\"white\",\"automargin\":true,\"zerolinewidth\":2},\"scene\":{\"xaxis\":{\"backgroundcolor\":\"#E5ECF6\",\"gridcolor\":\"white\",\"linecolor\":\"white\",\"showbackground\":true,\"ticks\":\"\",\"zerolinecolor\":\"white\",\"gridwidth\":2},\"yaxis\":{\"backgroundcolor\":\"#E5ECF6\",\"gridcolor\":\"white\",\"linecolor\":\"white\",\"showbackground\":true,\"ticks\":\"\",\"zerolinecolor\":\"white\",\"gridwidth\":2},\"zaxis\":{\"backgroundcolor\":\"#E5ECF6\",\"gridcolor\":\"white\",\"linecolor\":\"white\",\"showbackground\":true,\"ticks\":\"\",\"zerolinecolor\":\"white\",\"gridwidth\":2}},\"shapedefaults\":{\"line\":{\"color\":\"#2a3f5f\"}},\"annotationdefaults\":{\"arrowcolor\":\"#2a3f5f\",\"arrowhead\":0,\"arrowwidth\":1},\"geo\":{\"bgcolor\":\"white\",\"landcolor\":\"#E5ECF6\",\"subunitcolor\":\"white\",\"showland\":true,\"showlakes\":true,\"lakecolor\":\"white\"},\"title\":{\"x\":0.05},\"mapbox\":{\"style\":\"light\"}}},\"showlegend\":false,\"title\":{\"text\":\"Hamlet's Network\"},\"xaxis\":{\"showgrid\":false,\"zeroline\":false},\"yaxis\":{\"showgrid\":false,\"zeroline\":false}},                        {\"responsive\": true}                    ).then(function(){\n",
       "                            \n",
       "var gd = document.getElementById('13c8b1b8-1841-449a-9519-f138ebc1147b');\n",
       "var x = new MutationObserver(function (mutations, observer) {{\n",
       "        var display = window.getComputedStyle(gd).display;\n",
       "        if (!display || display === 'none') {{\n",
       "            console.log([gd, 'removed!']);\n",
       "            Plotly.purge(gd);\n",
       "            observer.disconnect();\n",
       "        }}\n",
       "}});\n",
       "\n",
       "// Listen for the removal of the full notebook cells\n",
       "var notebookContainer = gd.closest('#notebook-container');\n",
       "if (notebookContainer) {{\n",
       "    x.observe(notebookContainer, {childList: true});\n",
       "}}\n",
       "\n",
       "// Listen for the clearing of the current output cell\n",
       "var outputEl = gd.closest('.output');\n",
       "if (outputEl) {{\n",
       "    x.observe(outputEl, {childList: true});\n",
       "}}\n",
       "\n",
       "                        })                };                });            </script>        </div>"
      ]
     },
     "metadata": {},
     "output_type": "display_data"
    }
   ],
   "source": [
    "import pandas as pd\n",
    "import networkx as nx\n",
    "import matplotlib.pyplot as plt\n",
    "import plotly.graph_objects as go\n",
    "\n",
    "# Load the existing graph\n",
    "G = nx.read_gexf('graphs/initial_graph.gexf')\n",
    "\n",
    "# Load your three datasets\n",
    "relationships_df = pd.read_csv('dataset/relazioni_matrix_amleto.csv', index_col=0)\n",
    "cooc_df = pd.read_csv('dataset/cooc_matrix_amleto.csv', index_col=0)\n",
    "interactions_df = pd.read_csv('dataset/interazioni_matrix_amleto.csv', index_col=0)\n",
    "\n",
    "# Function to add edges of different types to the graph\n",
    "def add_edges_from_dataframe(G, df, edge_color):\n",
    "    for row in df.iterrows():\n",
    "        source, targets = row[0], row[1][row[1] > 0].index.tolist()\n",
    "        for target in targets:\n",
    "            G.add_edge(source, target, color=edge_color)\n",
    "\n",
    "# Add edges for relationships (orange)\n",
    "add_edges_from_dataframe(G, relationships_df, 'orange')\n",
    "\n",
    "# Add edges for interactions (yellow)\n",
    "add_edges_from_dataframe(G, interactions_df, 'yellow')\n",
    "\n",
    "# Add edges for co-occurrences (green)\n",
    "add_edges_from_dataframe(G, cooc_df, 'green')\n",
    "\n",
    "# Visualize the graph\n",
    "pos = nx.spring_layout(G, seed=42)\n",
    "\n",
    "edge_trace = []\n",
    "for edge in G.edges(data=True):\n",
    "    x0, y0 = pos[edge[0]]\n",
    "    x1, y1 = pos[edge[1]]\n",
    "    edge_trace.append(go.Scatter(\n",
    "        x=[x0, x1, None],\n",
    "        y=[y0, y1, None],\n",
    "        mode='lines',\n",
    "        line=dict(width=1, color=edge[2]['color']),\n",
    "        hoverinfo='none'\n",
    "    ))\n",
    "\n",
    "node_trace = go.Scatter(\n",
    "    x=[pos[node][0] for node in G.nodes()],\n",
    "    y=[pos[node][1] for node in G.nodes()],\n",
    "    mode='markers+text',\n",
    "    hoverinfo='text',\n",
    "    marker=dict(\n",
    "        showscale=False,\n",
    "        color=['red' if G.nodes[node].get('gender', 'Unknown') == 'Female' else 'lightblue' for node in G.nodes()]\n",
    "    ),\n",
    "    text=[node for node in G.nodes()],\n",
    "    textposition='bottom center',\n",
    "    textfont=dict(size=10),\n",
    "    customdata=[[f\"Character: {node}<br>Gender: {G.nodes[node].get('gender', 'Unknown')}<br>Place: {G.nodes[node].get('place', 'Unknown')}<br>Role: {G.nodes[node].get('role', 'Unknown')}\"] for node in G.nodes()]\n",
    ")\n",
    "\n",
    "fig = go.Figure(edge_trace + [node_trace])\n",
    "fig.update_traces(\n",
    "    hovertemplate='%{customdata}',  # Display attributes on hover\n",
    ")\n",
    "\n",
    "fig.update_layout(showlegend=False, title=\"Hamlet's Network\")\n",
    "fig.update_xaxes(showgrid=False, zeroline=False)\n",
    "fig.update_yaxes(showgrid=False, zeroline=False)\n",
    "fig.show()\n",
    "nx.write_gexf(G, 'graphs/new_graph.gexf')\n"
   ]
  },
  {
   "cell_type": "markdown",
   "id": "63868f3c-bd09-4d66-9079-8938105e5c6d",
   "metadata": {},
   "source": [
    "### Visualizzazione"
   ]
  },
  {
   "cell_type": "code",
   "execution_count": null,
   "id": "6cbd637b-27c1-452a-8e7d-9aa74a006ec4",
   "metadata": {},
   "outputs": [],
   "source": [
    "import networkx as nx\n",
    "from networkx.readwrite import graphml\n",
    "from networkx.readwrite import pajek\n",
    "\n",
    "# Carica il grafo da un file Gephi\n",
    "gephi_file_path = \"graphs/new_graph.gexf\"  # Sostituisci con il percorso del tuo file Gephi\n",
    "G = nx.read_gexf(gephi_file_path)  # Puoi utilizzare anche read_gml o read_graphml a seconda del formato di esportazione da Gephi\n",
    "\n",
    "# Esporta il grafo in formato GraphML (o altro formato supportato da SocNetV)\n",
    "graphml_file_path = \"graphs/grafo_convertito.graphml\"  # Puoi scegliere un nome per il tuo nuovo file\n",
    "nx.write_graphml(G, graphml_file_path)\n",
    "\n",
    "# Esporta il grafo in formato Pajek (opzionale, a seconda delle esigenze di SocNetV)\n",
    "pajek_file_path = \"graphs/grafo_convertito.net\"  # Puoi scegliere un nome per il tuo nuovo file\n",
    "nx.write_pajek(G, pajek_file_path)"
   ]
  }
 ],
 "metadata": {
  "kernelspec": {
   "display_name": "Python 3 (ipykernel)",
   "language": "python",
   "name": "python3"
  },
  "language_info": {
   "codemirror_mode": {
    "name": "ipython",
    "version": 3
   },
   "file_extension": ".py",
   "mimetype": "text/x-python",
   "name": "python",
   "nbconvert_exporter": "python",
   "pygments_lexer": "ipython3",
   "version": "3.11.2"
  },
  "vscode": {
   "interpreter": {
    "hash": "aee8b7b246df8f9039afb4144a1f6fd8d2ca17a180786b69acc140d282b71a49"
   }
  }
 },
 "nbformat": 4,
 "nbformat_minor": 5
}
